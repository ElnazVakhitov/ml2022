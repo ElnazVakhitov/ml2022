{
 "cells": [
  {
   "cell_type": "markdown",
   "metadata": {},
   "source": [
    "# 8.4 Распознавание цифр (MNIST)"
   ]
  },
  {
   "cell_type": "code",
   "execution_count": 1,
   "metadata": {},
   "outputs": [],
   "source": [
    "import torch"
   ]
  },
  {
   "cell_type": "code",
   "execution_count": 2,
   "metadata": {},
   "outputs": [],
   "source": [
    "from setup_libs import *\n",
    "\n",
    "import torchvision\n",
    "\n",
    "from torch import nn, optim\n",
    "\n",
    "from torch.nn import Sequential, Linear, LogSoftmax, Sigmoid, Flatten, Softmax, ReLU\n",
    "\n",
    "from torchvision import datasets, transforms\n",
    "\n",
    "from torch.utils.data import random_split, DataLoader"
   ]
  },
  {
   "cell_type": "markdown",
   "metadata": {},
   "source": [
    "## Картинки!"
   ]
  },
  {
   "cell_type": "code",
   "execution_count": 3,
   "metadata": {},
   "outputs": [],
   "source": [
    "batch_size = 32"
   ]
  },
  {
   "cell_type": "code",
   "execution_count": 4,
   "metadata": {},
   "outputs": [
    {
     "name": "stdout",
     "output_type": "stream",
     "text": [
      "Downloading http://yann.lecun.com/exdb/mnist/train-images-idx3-ubyte.gz\n",
      "Downloading http://yann.lecun.com/exdb/mnist/train-images-idx3-ubyte.gz to data/MNIST/raw/train-images-idx3-ubyte.gz\n"
     ]
    },
    {
     "data": {
      "application/vnd.jupyter.widget-view+json": {
       "model_id": "7949cbd583014b7ea1f8d397069c0223",
       "version_major": 2,
       "version_minor": 0
      },
      "text/plain": [
       "  0%|          | 0/9912422 [00:00<?, ?it/s]"
      ]
     },
     "metadata": {},
     "output_type": "display_data"
    },
    {
     "name": "stdout",
     "output_type": "stream",
     "text": [
      "Extracting data/MNIST/raw/train-images-idx3-ubyte.gz to data/MNIST/raw\n",
      "\n",
      "Downloading http://yann.lecun.com/exdb/mnist/train-labels-idx1-ubyte.gz\n",
      "Downloading http://yann.lecun.com/exdb/mnist/train-labels-idx1-ubyte.gz to data/MNIST/raw/train-labels-idx1-ubyte.gz\n"
     ]
    },
    {
     "data": {
      "application/vnd.jupyter.widget-view+json": {
       "model_id": "ffa8827a3fce445aac6d9003b1da428c",
       "version_major": 2,
       "version_minor": 0
      },
      "text/plain": [
       "  0%|          | 0/28881 [00:00<?, ?it/s]"
      ]
     },
     "metadata": {},
     "output_type": "display_data"
    },
    {
     "name": "stdout",
     "output_type": "stream",
     "text": [
      "Extracting data/MNIST/raw/train-labels-idx1-ubyte.gz to data/MNIST/raw\n",
      "\n",
      "Downloading http://yann.lecun.com/exdb/mnist/t10k-images-idx3-ubyte.gz\n",
      "Downloading http://yann.lecun.com/exdb/mnist/t10k-images-idx3-ubyte.gz to data/MNIST/raw/t10k-images-idx3-ubyte.gz\n"
     ]
    },
    {
     "data": {
      "application/vnd.jupyter.widget-view+json": {
       "model_id": "df6b3dabb6e740dabf85347b80d0e7fa",
       "version_major": 2,
       "version_minor": 0
      },
      "text/plain": [
       "  0%|          | 0/1648877 [00:00<?, ?it/s]"
      ]
     },
     "metadata": {},
     "output_type": "display_data"
    },
    {
     "name": "stdout",
     "output_type": "stream",
     "text": [
      "Extracting data/MNIST/raw/t10k-images-idx3-ubyte.gz to data/MNIST/raw\n",
      "\n",
      "Downloading http://yann.lecun.com/exdb/mnist/t10k-labels-idx1-ubyte.gz\n",
      "Downloading http://yann.lecun.com/exdb/mnist/t10k-labels-idx1-ubyte.gz to data/MNIST/raw/t10k-labels-idx1-ubyte.gz\n"
     ]
    },
    {
     "data": {
      "application/vnd.jupyter.widget-view+json": {
       "model_id": "2384430099d4493da568270275642fda",
       "version_major": 2,
       "version_minor": 0
      },
      "text/plain": [
       "  0%|          | 0/4542 [00:00<?, ?it/s]"
      ]
     },
     "metadata": {},
     "output_type": "display_data"
    },
    {
     "name": "stdout",
     "output_type": "stream",
     "text": [
      "Extracting data/MNIST/raw/t10k-labels-idx1-ubyte.gz to data/MNIST/raw\n",
      "\n"
     ]
    }
   ],
   "source": [
    "train_data = datasets.MNIST('data', train=True, download=True, transform=transforms.ToTensor())\n",
    "\n",
    "train, val = random_split(train_data, [55000, 5000])\n",
    "train_loader = DataLoader(train, batch_size=32)\n",
    "val_loader = DataLoader(val, batch_size=32)"
   ]
  },
  {
   "cell_type": "code",
   "execution_count": 5,
   "metadata": {},
   "outputs": [
    {
     "data": {
      "text/plain": [
       "torch.Size([1, 28, 28])"
      ]
     },
     "execution_count": 5,
     "metadata": {},
     "output_type": "execute_result"
    }
   ],
   "source": [
    "val[4][0].size()"
   ]
  },
  {
   "cell_type": "code",
   "execution_count": 6,
   "metadata": {},
   "outputs": [
    {
     "data": {
      "image/png": "[encoded data removed]",
      "text/plain": [
       "<Figure size 432x288 with 1 Axes>"
      ]
     },
     "metadata": {
      "needs_background": "light"
     },
     "output_type": "display_data"
    }
   ],
   "source": [
    "plt.imshow(val[4][0].reshape(28,28).numpy())\n",
    "plt.show()"
   ]
  },
  {
   "cell_type": "code",
   "execution_count": 7,
   "metadata": {},
   "outputs": [
    {
     "name": "stdout",
     "output_type": "stream",
     "text": [
      "Epoch: 1, Train Loss: 1.1745233535766602, Accuracy: 0.6835272727272728\n",
      "Epoch: 2, Train Loss: 0.3921372890472412, Accuracy: 0.8885636363636363\n",
      "Epoch: 3, Train Loss: 0.3188318610191345, Accuracy: 0.9080181818181818\n",
      "Epoch: 4, Train Loss: 0.28114554286003113, Accuracy: 0.9185272727272727\n"
     ]
    }
   ],
   "source": [
    "model = Sequential(\n",
    "    Linear(28 * 28, 64), # на входе - размеры картинки\n",
    "    ReLU(),\n",
    "    Linear(64, 64),\n",
    "    ReLU(),\n",
    "    Linear(64, 10) # 10 классов\n",
    ")\n",
    "\n",
    "criterion = torch.nn.CrossEntropyLoss()\n",
    "\n",
    "optimizer = torch.optim.SGD(model.parameters(), lr=1e-2)\n",
    "\n",
    "# Спуск\n",
    "for epoch in range(4):\n",
    "    \n",
    "    # training part\n",
    "    train_losses = list()\n",
    "    train_count_correct = 0 \n",
    "    for batch in train_loader: # 55000 / 32 раз\n",
    "        x, y = batch\n",
    "        # x: batch_size x 1 x 28 x 28\n",
    "        # y: batch_size x 1\n",
    "        \n",
    "        x = x.view(x.size(0), -1) # matrix of vectors batch_size x (28 * 28)\n",
    "        \n",
    "        y_pred = model(x)\n",
    "        \n",
    "        batch_loss = criterion(y_pred, y)\n",
    "        \n",
    "        train_losses.append(batch_loss.item())\n",
    "        train_count_correct += (y_pred.argmax(-1) == y).sum().item()\n",
    "        \n",
    "        \n",
    "        optimizer.zero_grad()\n",
    "        batch_loss.backward()\n",
    "        optimizer.step()\n",
    "    \n",
    "    print(f'Epoch: {epoch + 1}, Train Loss: {torch.tensor(train_losses).mean()}, Accuracy: {train_count_correct / len(train)}')\n"
   ]
  },
  {
   "cell_type": "markdown",
   "metadata": {},
   "source": [
    "## Check model"
   ]
  },
  {
   "cell_type": "code",
   "execution_count": 8,
   "metadata": {},
   "outputs": [
    {
     "name": "stdout",
     "output_type": "stream",
     "text": [
      "Test Loss: 0.28719115257263184, Test Accuracy: 0.9208\n"
     ]
    }
   ],
   "source": [
    "val_losses = list()\n",
    "val_count_correct = 0\n",
    "for batch in val_loader:\n",
    "    x, y = batch\n",
    "    x = x.view(x.size(0), -1)\n",
    "\n",
    "    with torch.no_grad():\n",
    "        y_pred = model(x) \n",
    "\n",
    "    batch_loss = criterion(y_pred, y)\n",
    "    val_losses.append(batch_loss.item())\n",
    "    val_count_correct += (y_pred.argmax(-1) == y).sum().item()\n",
    "\n",
    "print(f'Test Loss: {torch.tensor(val_losses).mean()}, Test Accuracy: {val_count_correct / len(val)}')"
   ]
  },
  {
   "cell_type": "markdown",
   "metadata": {},
   "source": [
    "## Обычно делают одновременно"
   ]
  },
  {
   "cell_type": "code",
   "execution_count": 9,
   "metadata": {},
   "outputs": [
    {
     "name": "stdout",
     "output_type": "stream",
     "text": [
      "Epoch: 1, Train Loss: 1.212336540222168, Accuracy: 0.6834727272727272\n",
      "Epoch: 1, Test Loss: 0.5203611254692078, Accuracy: 0.8592\n",
      "------------------------------------\n",
      "Epoch: 2, Train Loss: 0.4020938575267792, Accuracy: 0.8878\n",
      "Epoch: 2, Test Loss: 0.3696366250514984, Accuracy: 0.8992\n",
      "------------------------------------\n",
      "Epoch: 3, Train Loss: 0.32035088539123535, Accuracy: 0.9084363636363636\n",
      "Epoch: 3, Test Loss: 0.31972256302833557, Accuracy: 0.9096\n",
      "------------------------------------\n",
      "Epoch: 4, Train Loss: 0.2810913324356079, Accuracy: 0.9192545454545454\n",
      "Epoch: 4, Test Loss: 0.2877568304538727, Accuracy: 0.9184\n",
      "------------------------------------\n"
     ]
    }
   ],
   "source": [
    "model = Sequential(\n",
    "    Linear(28 * 28, 64), # на входе - размеры картинки\n",
    "    ReLU(),\n",
    "    Linear(64, 64),\n",
    "    ReLU(),\n",
    "    Linear(64, 10) # 10 классов\n",
    ")\n",
    "\n",
    "criterion = torch.nn.CrossEntropyLoss()\n",
    "\n",
    "optimizer = torch.optim.SGD(model.parameters(), lr=1e-2)\n",
    "\n",
    "# Спуск\n",
    "for epoch in range(4):\n",
    "    \n",
    "    # training part\n",
    "    train_losses = list()\n",
    "    train_count_correct = 0 \n",
    "    for batch in train_loader:\n",
    "        x, y = batch\n",
    "        # x: batch_size x 1 x 28 x 28\n",
    "        # y: batch_size x 1\n",
    "        \n",
    "        x = x.view(x.size(0), -1)\n",
    "        \n",
    "        y_pred = model(x) \n",
    "        \n",
    "        batch_loss = criterion(y_pred, y)\n",
    "        train_losses.append(batch_loss.item())\n",
    "        train_count_correct += (y_pred.argmax(-1) == y).sum().item()\n",
    "        \n",
    "        \n",
    "        optimizer.zero_grad()\n",
    "        batch_loss.backward()\n",
    "        optimizer.step()\n",
    "    \n",
    "    print(f'Epoch: {epoch + 1}, Train Loss: {torch.tensor(train_losses).mean()}, Accuracy: {train_count_correct / len(train)}')\n",
    "    \n",
    "    # validation part\n",
    "    val_losses = list()\n",
    "    val_count_correct = 0\n",
    "    for batch in val_loader:\n",
    "        x, y = batch\n",
    "        x = x.view(x.size(0), -1)\n",
    "        \n",
    "        with torch.no_grad():\n",
    "            y_pred = model(x) \n",
    "        \n",
    "        batch_loss = criterion(y_pred, y)\n",
    "        val_losses.append(batch_loss.item())\n",
    "        val_count_correct += (y_pred.argmax(-1) == y).sum().item()\n",
    "\n",
    "    \n",
    "    print(f'Epoch: {epoch + 1}, Test Loss: {torch.tensor(val_losses).mean()}, Accuracy: {val_count_correct / len(val)}')\n",
    "    print('------------------------------------')\n"
   ]
  },
  {
   "cell_type": "code",
   "execution_count": null,
   "metadata": {},
   "outputs": [],
   "source": []
  },
  {
   "cell_type": "markdown",
   "metadata": {},
   "source": [
    "# Ссылки интересные\n",
    "* [MNIST solution](https://www.youtube.com/watch?v=OMDn66kM9Qc)"
   ]
  }
 ],
 "metadata": {
  "kernelspec": {
   "display_name": "Python 3",
   "language": "python",
   "name": "python3"
  },
  "language_info": {
   "codemirror_mode": {
    "name": "ipython",
    "version": 3
   },
   "file_extension": ".py",
   "mimetype": "text/x-python",
   "name": "python",
   "nbconvert_exporter": "python",
   "pygments_lexer": "ipython3",
   "version": "3.8.8"
  }
 },
 "nbformat": 4,
 "nbformat_minor": 4
}
