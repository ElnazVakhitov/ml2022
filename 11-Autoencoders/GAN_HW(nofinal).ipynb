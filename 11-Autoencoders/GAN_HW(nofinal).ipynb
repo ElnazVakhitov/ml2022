{
 "cells": [
  {
   "cell_type": "markdown",
   "metadata": {
    "id": "XTyKtFo_OJU-"
   },
   "source": [
    "# GAN Homework"
   ]
  },
  {
   "cell_type": "markdown",
   "metadata": {
    "id": "BoPMWCFRObN6"
   },
   "source": [
    "В этом ноутбуке вам необходимо будет дополнить ячейки своим кодом в результате чего вы получите первую генеративно-состязательную сеть (GAN). "
   ]
  },
  {
   "cell_type": "markdown",
   "metadata": {
    "id": "8pm64dBcOtUb"
   },
   "source": [
    "Ваша цель - построить и обучить модель GAN, которая генерирует рукописные цифры. Для построения данной модели мы будем использовать фреймворк PyTorch. \n",
    "\n",
    "Документацию по нему можно найти [здесь](https://pytorch.org/docs/stable/index.html)."
   ]
  },
  {
   "cell_type": "markdown",
   "metadata": {
    "id": "D1FrWHEeOtYq"
   },
   "source": [
    "### Что необходимо сделать?"
   ]
  },
  {
   "cell_type": "markdown",
   "metadata": {
    "id": "uuC39QA2Pnkn"
   },
   "source": [
    "1. Построить с нуля генератор и дискриминатор для GAN.\n",
    "\n",
    "2. Создать функции потерь для генератора и дискриминатора\n",
    "\n",
    "3. Обучить GAN и визуализировать результаты"
   ]
  },
  {
   "cell_type": "markdown",
   "metadata": {
    "id": "Ntmb8GbGQHZs"
   },
   "source": [
    "### Решение:"
   ]
  },
  {
   "cell_type": "markdown",
   "metadata": {
    "id": "KIPT2KNnQRLR"
   },
   "source": [
    "Импортируем необходимые библиотеки и реализуем функцию для визуализации результатов."
   ]
  },
  {
   "cell_type": "markdown",
   "metadata": {
    "id": "txEBbjCZQ6oG"
   },
   "source": [
    "Почитать про dataset MNIST можно [тут](https://en.wikipedia.org/wiki/MNIST_database)."
   ]
  },
  {
   "cell_type": "code",
   "execution_count": 4,
   "metadata": {
    "executionInfo": {
     "elapsed": 4417,
     "status": "ok",
     "timestamp": 1638795591545,
     "user": {
      "displayName": "Алексей Липаткин",
      "photoUrl": "https://lh3.googleusercontent.com/a/default-user=s64",
      "userId": "09681188874907299799"
     },
     "user_tz": -300
    },
    "id": "cFDgdiNwONNN"
   },
   "outputs": [],
   "source": [
    "import torch\n",
    "from torch import nn\n",
    "from tqdm.auto import tqdm\n",
    "from torchvision import transforms\n",
    "from torchvision.datasets import MNIST\n",
    "from torchvision.utils import make_grid\n",
    "from torch.utils.data import DataLoader\n",
    "import matplotlib.pyplot as plt\n",
    "torch.manual_seed(0)\n",
    "\n",
    "def show_tensor_images(image_tensor, num_images=25, size=(1, 28, 28)):\n",
    "    '''\n",
    "    Функция для визуализации изображений. На вход подается:\n",
    "    - тензор изображений\n",
    "    - количество изображений\n",
    "    - размер каждого изображения\n",
    "    '''\n",
    "    image_unflat = image_tensor.detach().cpu().view(-1, *size)\n",
    "    image_grid = make_grid(image_unflat[:num_images], nrow=5)\n",
    "    plt.imshow(image_grid.permute(1, 2, 0).squeeze())\n",
    "    plt.show()"
   ]
  },
  {
   "cell_type": "markdown",
   "metadata": {
    "id": "0R2mSM42RIQT"
   },
   "source": [
    "### Cлой генератора"
   ]
  },
  {
   "cell_type": "markdown",
   "metadata": {
    "id": "s6oP14_LRgTk"
   },
   "source": [
    "Напишите функцию для создания одного слоя генератора (нейросети). Слой должен содержать: [линейное преобразование](https://pytorch.org/docs/stable/generated/torch.nn.Linear.html) для отображения в другой размер, [пакетную нормализацию](https://pytorch.org/docs/stable/generated/torch.nn.BatchNorm1d.html) для стабилизации и нелинейную функцию активации (в нашем случае мы хотим использовать [ReLU](https://pytorch.org/docs/master/generated/torch.nn.ReLU.html))."
   ]
  },
  {
   "cell_type": "code",
   "execution_count": 5,
   "metadata": {
    "executionInfo": {
     "elapsed": 10,
     "status": "ok",
     "timestamp": 1638795591546,
     "user": {
      "displayName": "Алексей Липаткин",
      "photoUrl": "https://lh3.googleusercontent.com/a/default-user=s64",
      "userId": "09681188874907299799"
     },
     "user_tz": -300
    },
    "id": "mpOguR8EQcM_"
   },
   "outputs": [],
   "source": [
    "def get_generator_block(input_dim, output_dim):\n",
    "    '''\n",
    "    Функция возвращает блок генератора (нейросети).\n",
    "    Параметры:\n",
    "        input_dim: размер входного вектора (скаляр)\n",
    "        output_dim: размер выходного вектора (скаляр)\n",
    "    Возвращаемое значение:\n",
    "        Слой генератора (нейросети), с линейным преобразованием,\n",
    "        пакетной нормализацией и функцией активации ReLU\n",
    "    '''\n",
    "    return nn.Sequential(\n",
    "        #### START CODE HERE ####\n",
    "        nn.Linear(input_dim, output_dim),\n",
    "        nn.BatchNorm1d(output_dim),\n",
    "        nn.ReLU(inplace=True),\n",
    "        #### END CODE HERE ####\n",
    "    )"
   ]
  },
  {
   "cell_type": "markdown",
   "metadata": {
    "id": "0tYRzHOJThSq"
   },
   "source": [
    "#### Функция для проверки:"
   ]
  },
  {
   "cell_type": "code",
   "execution_count": 6,
   "metadata": {
    "executionInfo": {
     "elapsed": 5388,
     "status": "ok",
     "timestamp": 1638795596926,
     "user": {
      "displayName": "Алексей Липаткин",
      "photoUrl": "https://lh3.googleusercontent.com/a/default-user=s64",
      "userId": "09681188874907299799"
     },
     "user_tz": -300
    },
    "id": "tGNR3Mh6TSc9"
   },
   "outputs": [],
   "source": [
    "def test_gen_block(in_features, out_features, num_test=10000):\n",
    "    block = get_generator_block(in_features, out_features)\n",
    "\n",
    "    assert len(block) == 3\n",
    "    assert type(block[0]) == nn.Linear\n",
    "    assert type(block[1]) == nn.BatchNorm1d\n",
    "    assert type(block[2]) == nn.ReLU\n",
    "    \n",
    "    test_input = torch.randn(num_test, in_features)\n",
    "    test_output = block(test_input)\n",
    "\n",
    "    assert tuple(test_output.shape) == (num_test, out_features)\n",
    "    assert 0.55 < test_output.std() < 0.6\n",
    "\n",
    "\n",
    "min_shape = 10\n",
    "max_shape = 40\n",
    "for i in range(min_shape, max_shape):\n",
    "    for j in range(min_shape, max_shape):\n",
    "        test_gen_block(i, j)"
   ]
  },
  {
   "cell_type": "markdown",
   "metadata": {
    "id": "WS9CUsp3YMtx"
   },
   "source": [
    "### Генератор"
   ]
  },
  {
   "cell_type": "markdown",
   "metadata": {
    "id": "IDJ77yQhVf2-"
   },
   "source": [
    "Теперь мы можем построить модель генератор целиком. Она принимает три значения:    \n",
    "\n",
    "- Размер вектора шума\n",
    "- Размер изображения\n",
    "- Размер внутреннего слоя \n",
    "\n",
    "Генератор - нейронная сеть с 5 слоями. На вход генератор принимает вектор шума и применяя нелинейные преобразования с помощью  блочной генеративной функции до тех пор, пока размер тензора не совпадет с размером нашего изображения.\n",
    "\n",
    "Необходимо заполнить код последнего слоя, так как он отличается от других. Он не нуждается в функции нормализации или активации, но его необходимо масштабировать с помощью сигмоиды."
   ]
  },
  {
   "cell_type": "code",
   "execution_count": 7,
   "metadata": {
    "executionInfo": {
     "elapsed": 12,
     "status": "ok",
     "timestamp": 1638795596928,
     "user": {
      "displayName": "Алексей Липаткин",
      "photoUrl": "https://lh3.googleusercontent.com/a/default-user=s64",
      "userId": "09681188874907299799"
     },
     "user_tz": -300
    },
    "id": "VA13CUdTT8iE"
   },
   "outputs": [],
   "source": [
    "class Generator(nn.Module):\n",
    "    '''\n",
    "    Генератор\n",
    "    Значения:\n",
    "        z_dim: размер вектора шума (скаляр)\n",
    "        im_dim: размер изображений (скаляр)\n",
    "          (Изображения из датасета имеют размер MNIST - 1 х 28 x 28 = 784)\n",
    "        hidden_dim: внутренняя размерность (скаляр)\n",
    "    '''\n",
    "    def __init__(self, z_dim=10, im_dim=784, hidden_dim=128):\n",
    "        super(Generator, self).__init__()\n",
    "        # Построение нейросети\n",
    "        self.gen = nn.Sequential(\n",
    "            get_generator_block(z_dim, hidden_dim),\n",
    "            get_generator_block(hidden_dim, hidden_dim * 2),\n",
    "            get_generator_block(hidden_dim * 2, hidden_dim * 4),\n",
    "            get_generator_block(hidden_dim * 4, hidden_dim * 8),\n",
    "            #### START CODE HERE ####\n",
    "            nn.Linear(hidden_dim * 8, im_dim),\n",
    "            nn.Sigmoid()\n",
    "            #### END CODE HERE ####\n",
    "        )\n",
    "    def forward(self, noise):\n",
    "        '''\n",
    "        Функция для выполнения шага forward у генератора: принимает вектор шума,\n",
    "            возвращает сгенерированное изображение.\n",
    "        Параметры:\n",
    "            noise: тензор шума имеющий размерность (n_samples, z_dim)\n",
    "        '''\n",
    "        return self.gen(noise)\n",
    "    \n",
    "    def get_gen(self):\n",
    "        '''\n",
    "        Возвращает модель генератор\n",
    "        '''\n",
    "        return self.gen"
   ]
  },
  {
   "cell_type": "markdown",
   "metadata": {
    "id": "X11GCXatXJcI"
   },
   "source": [
    "#### Функция для проверки:"
   ]
  },
  {
   "cell_type": "code",
   "execution_count": 8,
   "metadata": {
    "executionInfo": {
     "elapsed": 2485,
     "status": "ok",
     "timestamp": 1638795599403,
     "user": {
      "displayName": "Алексей Липаткин",
      "photoUrl": "https://lh3.googleusercontent.com/a/default-user=s64",
      "userId": "09681188874907299799"
     },
     "user_tz": -300
    },
    "id": "3qAp0EK0XDaU"
   },
   "outputs": [],
   "source": [
    "def test_generator(z_dim, im_dim=784, hidden_dim=124, num_test=10000):\n",
    "    gen = Generator(z_dim, im_dim, hidden_dim).get_gen()\n",
    "\n",
    "    assert len(gen) == 6\n",
    "    assert str(gen.__getitem__(4)).replace(' ', '') == (f'Linear(in_features' + \n",
    "                         f'={hidden_dim * 8},' + \n",
    "                         f'out_features={im_dim},' + \n",
    "                         f'bias=True)') \n",
    "    assert str(gen.__getitem__(5)).replace(' ', '') == 'Sigmoid()'\n",
    "    test_input = torch.randn(num_test, z_dim)\n",
    "    test_output = gen(test_input)\n",
    "\n",
    "    assert tuple(test_output.shape) == (num_test, im_dim)\n",
    "    assert test_output.max() < 1, \"Make sure to use a sigmoid\"\n",
    "    assert test_output.min() > 0, \"Make sure to use a sigmoid\"\n",
    "    assert test_output.std() > 0.05, \"Don't use batchnorm here\"\n",
    "    assert test_output.std() < 0.15, \"Don't use batchnorm here\"\n",
    "\n",
    "test_generator(5, 10, 20)\n",
    "test_generator(20, 8, 24)\n",
    "test_generator(10)\n",
    "test_generator(100)\n",
    "test_generator(200)"
   ]
  },
  {
   "cell_type": "markdown",
   "metadata": {
    "id": "dwYcwoptYUAb"
   },
   "source": [
    "### Шум"
   ]
  },
  {
   "cell_type": "markdown",
   "metadata": {
    "id": "fbmtUwirtXX1"
   },
   "source": [
    "Чтобы иметь возможность использовать генератор, нам необходимо научиться создавать векторы шума. Вектор шума $z$ играет важную рольв обеспечении того, чтобы изображения, созданные из одного класса не выглядели одинаково."
   ]
  },
  {
   "cell_type": "markdown",
   "metadata": {
    "id": "AQEZCmiWtsDs"
   },
   "source": [
    "Вам необходимо сгенерировать его случайным образом, используя **PyTorch**, путем выборки случайных чисел из нормального распределения.\n",
    "\n",
    "Поскольку за один проход будет сгенерировано несколько изображений, необходимо сгенерировать все векторы шума одновременно."
   ]
  },
  {
   "cell_type": "code",
   "execution_count": 9,
   "metadata": {
    "executionInfo": {
     "elapsed": 5,
     "status": "ok",
     "timestamp": 1638795599721,
     "user": {
      "displayName": "Алексей Липаткин",
      "photoUrl": "https://lh3.googleusercontent.com/a/default-user=s64",
      "userId": "09681188874907299799"
     },
     "user_tz": -300
    },
    "id": "VvfDVLIPXPl0"
   },
   "outputs": [],
   "source": [
    "def get_noise(n_samples, z_dim, device='cpu'):\n",
    "    '''\n",
    "    Функция для генерации векторов шума: даны размеры векторов \n",
    "    (n_samples, z_dim), создает векторы заполненные произвольными значениями \n",
    "    из нормального распределения.\n",
    "    Параметры:\n",
    "        n_samples: количество сэмплов для генерации (скаляр)\n",
    "        z_dim: размерность вектора шума (скаляр)\n",
    "        device: тип устройства на котором будем генерировать векторы шума.\n",
    "    '''\n",
    "    #### START CODE HERE ####\n",
    "    return torch.randn(n_samples, z_dim, device=device)\n",
    "    #### END CODE HERE ####"
   ]
  },
  {
   "cell_type": "code",
   "execution_count": 10,
   "metadata": {
    "executionInfo": {
     "elapsed": 2,
     "status": "ok",
     "timestamp": 1638795600112,
     "user": {
      "displayName": "Алексей Липаткин",
      "photoUrl": "https://lh3.googleusercontent.com/a/default-user=s64",
      "userId": "09681188874907299799"
     },
     "user_tz": -300
    },
    "id": "VzudnjmSbHiz"
   },
   "outputs": [],
   "source": [
    "def test_get_noise(n_samples, z_dim, device='cpu'):\n",
    "    noise = get_noise(n_samples, z_dim, device)\n",
    "    \n",
    "    assert tuple(noise.shape) == (n_samples, z_dim)\n",
    "    assert torch.abs(noise.std() - torch.tensor(1.0)) < 0.01\n",
    "    assert str(noise.device).startswith(device)\n",
    "\n",
    "test_get_noise(1000, 100, 'cpu')\n",
    "if torch.cuda.is_available():\n",
    "    for i in range(1000):\n",
    "        test_get_noise(1000, i, 'cuda')"
   ]
  },
  {
   "cell_type": "markdown",
   "metadata": {
    "id": "y1VFNrAqbYBJ"
   },
   "source": [
    "### Слой дискриминатора"
   ]
  },
  {
   "cell_type": "markdown",
   "metadata": {
    "id": "gLz_JIz1vMuH"
   },
   "source": [
    "Напишите функцию для создания одного слоя дискриминатора (нейросети). Слой должен содержать: [линейное преобразование](https://pytorch.org/docs/stable/generated/torch.nn.Linear.html) для отображения в другой размер и нелинейную функцию активации (в нашем случае мы хотим использовать [Leaky ReLU](https://pytorch.org/docs/master/generated/torch.nn.LeakyReLU.html))."
   ]
  },
  {
   "cell_type": "markdown",
   "metadata": {
    "id": "bGIyGTy7wAAy"
   },
   "source": [
    "*Замечание*: мы хотим использовать в качестве функции активации Leaky ReLU, чтобы избежать проблемы, когда параметры перестают меняться из-за последовательно отрицательных значений, передаваемых в ReLU, что приводит к нулевому градиенту"
   ]
  },
  {
   "cell_type": "code",
   "execution_count": 11,
   "metadata": {
    "executionInfo": {
     "elapsed": 366,
     "status": "ok",
     "timestamp": 1638795601759,
     "user": {
      "displayName": "Алексей Липаткин",
      "photoUrl": "https://lh3.googleusercontent.com/a/default-user=s64",
      "userId": "09681188874907299799"
     },
     "user_tz": -300
    },
    "id": "ZO__SXgkctD4"
   },
   "outputs": [],
   "source": [
    "def get_discriminator_block(input_dim, output_dim):\n",
    "    '''\n",
    "    Функция возвращающая слой дискриминатора (нейросети).\n",
    "    Параметры:\n",
    "        input_dim: размер входного вектора (скаляр)\n",
    "        output_dim: размер выходного вектора (скаляр)\n",
    "    Возвращаемое значение:\n",
    "        слой дискриминатора, сожержащий линейное преобразование \n",
    "        из входного размера в выходной с функцией активации LeakyReLU \n",
    "        с параметром negative_slope = 0.2\n",
    "    '''\n",
    "    return nn.Sequential(\n",
    "        #### START CODE HERE ####\n",
    "         nn.Linear(input_dim, output_dim),\n",
    "         nn.LeakyReLU(0.2, inplace=True)\n",
    "        #### END CODE HERE ####\n",
    "    )"
   ]
  },
  {
   "cell_type": "code",
   "execution_count": 12,
   "metadata": {
    "executionInfo": {
     "elapsed": 5433,
     "status": "ok",
     "timestamp": 1638795607506,
     "user": {
      "displayName": "Алексей Липаткин",
      "photoUrl": "https://lh3.googleusercontent.com/a/default-user=s64",
      "userId": "09681188874907299799"
     },
     "user_tz": -300
    },
    "id": "-crYDWxwdnCS"
   },
   "outputs": [],
   "source": [
    "def test_disc_block(in_features, out_features, num_test=10000):\n",
    "    block = get_discriminator_block(in_features, out_features)\n",
    "\n",
    "    assert len(block) == 2\n",
    "    test_input = torch.randn(num_test, in_features)\n",
    "    test_output = block(test_input)\n",
    "\n",
    "    assert tuple(test_output.shape) == (num_test, out_features)\n",
    "    \n",
    "    assert -test_output.min() / test_output.max() > 0.1\n",
    "    assert -test_output.min() / test_output.max() < 0.3\n",
    "    assert test_output.std() > 0.3\n",
    "    assert test_output.std() < 0.5\n",
    "    \n",
    "    assert str(block.__getitem__(0)).replace(' ', '') == (f'Linear(' +\n",
    "        f'in_features={in_features},out_features={out_features},bias=True)')        \n",
    "    assert str(block.__getitem__(1)).replace(' ', '').replace(\n",
    "        ',inplace=True', '') == 'LeakyReLU(negative_slope=0.2)'\n",
    "\n",
    "\n",
    "min_shape = 10\n",
    "max_shape = 40\n",
    "for i in range(min_shape, max_shape):\n",
    "    for j in range(min_shape, max_shape):\n",
    "        test_gen_block(i, j)"
   ]
  },
  {
   "cell_type": "markdown",
   "metadata": {
    "id": "KOssPY01bfAH"
   },
   "source": [
    "### Дискриминатор"
   ]
  },
  {
   "cell_type": "markdown",
   "metadata": {
    "id": "yHuacf5zbEOR"
   },
   "source": [
    "Класс дискриминатора принимает в конструкторе два значения:    \n",
    "\n",
    "- Размер изображения\n",
    "- Размер скрытого измерения\n",
    "\n",
    "Дискриминатор - нейронная сеть из 4 слоев. Он принимает на вход тензор изображения и преобразует его до тех пор, пока не получит 1 число (0 - фейковое изображение, 1 - реальное изображение).\n",
    "\n",
    "Обратите внимание, что вам не нужна сигмоида после выходного слоя, так как она включена в функцию потерь.\n",
    "\n",
    "Необходимо заполнить код последнего слоя."
   ]
  },
  {
   "cell_type": "code",
   "execution_count": 13,
   "metadata": {
    "executionInfo": {
     "elapsed": 8,
     "status": "ok",
     "timestamp": 1638795607506,
     "user": {
      "displayName": "Алексей Липаткин",
      "photoUrl": "https://lh3.googleusercontent.com/a/default-user=s64",
      "userId": "09681188874907299799"
     },
     "user_tz": -300
    },
    "id": "G25SHQKDd7cI"
   },
   "outputs": [],
   "source": [
    "class Discriminator(nn.Module):\n",
    "    '''\n",
    "    Дискриминатор\n",
    "    Значения:\n",
    "        im_dim: размер изображений (скаляр)\n",
    "            (Изображения из датасета имеют размер MNIST - 1 х 28 x 28 = 784)\n",
    "        hidden_dim: размер скрытого слоя (скаляр)\n",
    "    '''\n",
    "    def __init__(self, im_dim=784, hidden_dim=128):\n",
    "        super(Discriminator, self).__init__()\n",
    "        self.disc = nn.Sequential(\n",
    "            get_discriminator_block(im_dim, hidden_dim * 4),\n",
    "            get_discriminator_block(hidden_dim * 4, hidden_dim * 2),\n",
    "            get_discriminator_block(hidden_dim * 2, hidden_dim),\n",
    "            #### START CODE HERE ####\n",
    "            nn.Linear(hidden_dim, 1)\n",
    "            #### END CODE HERE ####\n",
    "        )\n",
    "\n",
    "    def forward(self, image):\n",
    "        '''\n",
    "        Функция для выполнения шага forward в модели дискриминатора:\n",
    "        Дан тензор изображения, вернуть тензор размерности 1 \n",
    "        является ли это картинка фейком или нет.\n",
    "        Parameters:\n",
    "            image: плоский тензор изображения с размером (im_dim)\n",
    "        '''\n",
    "        return self.disc(image)\n",
    "    \n",
    "    def get_disc(self):\n",
    "        '''\n",
    "        Возвращаемое значение:\n",
    "            модель дискриминатор\n",
    "        '''\n",
    "        return self.disc"
   ]
  },
  {
   "cell_type": "markdown",
   "metadata": {
    "id": "byJjzmx9aT0O"
   },
   "source": [
    "#### Функция для проверки:"
   ]
  },
  {
   "cell_type": "code",
   "execution_count": 14,
   "metadata": {
    "executionInfo": {
     "elapsed": 9,
     "status": "ok",
     "timestamp": 1638795607508,
     "user": {
      "displayName": "Алексей Липаткин",
      "photoUrl": "https://lh3.googleusercontent.com/a/default-user=s64",
      "userId": "09681188874907299799"
     },
     "user_tz": -300
    },
    "id": "2F5Iro93eW6G"
   },
   "outputs": [],
   "source": [
    "def test_discriminator(z_dim, hidden_dim=128, num_test=100):\n",
    "    \n",
    "    disc = Discriminator(z_dim, hidden_dim).get_disc()\n",
    "\n",
    "    assert len(disc) == 4\n",
    "    assert type(disc.__getitem__(3)) == nn.Linear\n",
    "\n",
    "    test_input = torch.randn(num_test, z_dim)\n",
    "    test_output = disc(test_input)\n",
    "    assert tuple(test_output.shape) == (num_test, 1)\n",
    "\n",
    "test_discriminator(5, 10)\n",
    "test_discriminator(20, 8)\n",
    "test_discriminator(10)\n",
    "test_discriminator(50)\n",
    "test_discriminator(100)\n",
    "test_discriminator(200)"
   ]
  },
  {
   "cell_type": "markdown",
   "metadata": {
    "id": "v0gnjFYgblFJ"
   },
   "source": [
    "### Обучение"
   ]
  },
  {
   "cell_type": "markdown",
   "metadata": {
    "id": "Mjr9FFhAQ0yb"
   },
   "source": [
    "Теперь мы можем собрать нашу реализацию GAN.\n",
    "\n",
    "Во-первых, необходимо установить параметры:\n",
    "\n",
    "- `criterion` - функция потерь\n",
    "- `n_epochs` - количество раз, которое необходимо проитерировать весь датасет во время обучения\n",
    "- `z_dim` - размерность вектора шума\n",
    "- `display_step` - раз в сколько шагов необходимо визуализировать процесс\n",
    "- `batch_size` - количество картинок, обрабатываемых во время шагов `forward` и `backward`\n",
    "- `lr` - learning rate\n",
    "- `device` - тип устройства\n",
    "\n",
    "Во-вторых, необходимо загрузить датасет MNIST с помощью `dataloader`"
   ]
  },
  {
   "cell_type": "code",
   "execution_count": 15,
   "metadata": {
    "executionInfo": {
     "elapsed": 711,
     "status": "ok",
     "timestamp": 1638795608211,
     "user": {
      "displayName": "Алексей Липаткин",
      "photoUrl": "https://lh3.googleusercontent.com/a/default-user=s64",
      "userId": "09681188874907299799"
     },
     "user_tz": -300
    },
    "id": "R-ZDiAEMbeSD"
   },
   "outputs": [],
   "source": [
    "# Можно установить свои параметры\n",
    "criterion = nn.BCEWithLogitsLoss()\n",
    "n_epochs = 200\n",
    "z_dim = 64\n",
    "display_step = 500\n",
    "batch_size = 128\n",
    "lr = 0.00001\n",
    "device = 'cpu'\n",
    "# Загрузка датасета MNIST как тензоры\n",
    "dataloader = DataLoader(\n",
    "    MNIST('.', download=True, transform=transforms.ToTensor()),\n",
    "    batch_size=batch_size,\n",
    "    shuffle=True)"
   ]
  },
  {
   "cell_type": "markdown",
   "metadata": {
    "id": "LP9wOlEWQpvT"
   },
   "source": [
    "Теперь вы можете инициализировать свой генератор, дискриминатор и оптимизаторы. Обратите внимание, что каждый оптимизатор принимает параметры только одной конкретной модели, так как мы хотим, чтобы каждый из них оптимизировал только одну из моделей."
   ]
  },
  {
   "cell_type": "code",
   "execution_count": 16,
   "metadata": {
    "executionInfo": {
     "elapsed": 6,
     "status": "ok",
     "timestamp": 1638795608211,
     "user": {
      "displayName": "Алексей Липаткин",
      "photoUrl": "https://lh3.googleusercontent.com/a/default-user=s64",
      "userId": "09681188874907299799"
     },
     "user_tz": -300
    },
    "id": "UOxKhxpabJqD"
   },
   "outputs": [],
   "source": [
    "gen = Generator(z_dim).to(device)\n",
    "gen_opt = torch.optim.Adam(gen.parameters(), lr=lr)\n",
    "disc = Discriminator().to(device) \n",
    "disc_opt = torch.optim.Adam(disc.parameters(), lr=lr)"
   ]
  },
  {
   "cell_type": "markdown",
   "metadata": {
    "id": "qAHCHkFcLxxZ"
   },
   "source": [
    "Прежде, чем обучать GAN нам необходимо написать функции, которые вычисляют потери дискриминатора и генератора. "
   ]
  },
  {
   "cell_type": "markdown",
   "metadata": {
    "id": "6bjk1cjE1Rsu"
   },
   "source": [
    "### Функция активации дискриминатора"
   ]
  },
  {
   "cell_type": "markdown",
   "metadata": {
    "id": "75D7RcMOMny5"
   },
   "source": [
    "Вам необходимо выполнить следующие шаги:\n",
    "\n",
    "1. Создание векторов шума и генерация пачки (`num_images`) фейковых изображений. Убедитесь, что передаете параметр `device` в функцию `get_noise`.\n",
    "\n",
    "2. Получить предсказание дискриминатора на фейковых картинках и посчитать значения функции потерь. Не забудьте вызвать метод `detach` у генератора.\n",
    "\n",
    "3. Получить предсказание дискриминатора на реальных картинках и посчитать значения функции потерь.\n",
    "\n",
    "4. Вычислите потери дискриминатора в среднем на реальных и фейковых картинках это и будет `disc_loss`.\n",
    "\n",
    "*Важно*: \n",
    "\n",
    "1. Вам нужен тензор \"абсолютной истины\", чтобы рассчитать потери. Например, тензор абсолютной истинности для фейкового изображения - это все нули.\n",
    "\n",
    "2. Вам не нужно писать здесь собственную функцию потерь - используйте `criterion(pred, true)`"
   ]
  },
  {
   "cell_type": "code",
   "execution_count": 17,
   "metadata": {
    "executionInfo": {
     "elapsed": 262,
     "status": "ok",
     "timestamp": 1638795684008,
     "user": {
      "displayName": "Алексей Липаткин",
      "photoUrl": "https://lh3.googleusercontent.com/a/default-user=s64",
      "userId": "09681188874907299799"
     },
     "user_tz": -300
    },
    "id": "cCMvqxHn1G6P"
   },
   "outputs": [],
   "source": [
    "def get_disc_loss(gen, disc, criterion, real, num_images, z_dim, device):\n",
    "    '''\n",
    "    Возвращает потери дискриминатора на заданном вхоже.\n",
    "    Параметры:\n",
    "        gen: генератор, который возвращает z-размерный шум\n",
    "        disc: дискриминатор, который возвращает предсказание - real/fake\n",
    "        criterion: функция потерь, которая используется дискриминатором \n",
    "               для сравнения предсказаний с действительной реальностью картинок \n",
    "               (fake = 0, real = 1)\n",
    "        real: пачка реальных картинок\n",
    "        num_images: количество картинок созданных генератором, совпадает \n",
    "                    с количеством реальных картиное\n",
    "        z_dim: размерность вектора шума (скаляр)\n",
    "        device: тип устройства на котором будем запускать\n",
    "    Возвращаемое значение:\n",
    "        disc_loss: значения функции потерь для текущей пачки картинок\n",
    "    '''\n",
    "    #### START CODE HERE ####\n",
    "    fake_noise = get_noise(num_images, z_dim, device=device)\n",
    "    fake = gen(fake_noise)\n",
    "    disc_fake_pred = disc(fake.detach())\n",
    "    disc_fake_loss = criterion(disc_fake_pred, torch.zeros_like(disc_fake_pred))\n",
    "    disc_real_pred = disc(real)\n",
    "    disc_real_loss = criterion(disc_real_pred, torch.ones_like(disc_real_pred))\n",
    "    disc_loss = (disc_fake_loss + disc_real_loss) / 2\n",
    "    #### END CODE HERE ####\n",
    "    return disc_loss"
   ]
  },
  {
   "cell_type": "code",
   "execution_count": 18,
   "metadata": {
    "executionInfo": {
     "elapsed": 958,
     "status": "ok",
     "timestamp": 1638795694497,
     "user": {
      "displayName": "Алексей Липаткин",
      "photoUrl": "https://lh3.googleusercontent.com/a/default-user=s64",
      "userId": "09681188874907299799"
     },
     "user_tz": -300
    },
    "id": "H9Bclqt71aYP"
   },
   "outputs": [],
   "source": [
    "def test_disc_reasonable(num_images=10):\n",
    "    z_dim = 64\n",
    "    gen = torch.zeros_like\n",
    "    disc = nn.Identity()\n",
    "    criterion = torch.mul\n",
    "    real = torch.ones(num_images, 1)\n",
    "    disc_loss = get_disc_loss(gen, disc, criterion, real, num_images, z_dim,\n",
    "                              'cpu')\n",
    "    assert tuple(disc_loss.shape) == (num_images, z_dim)\n",
    "    assert torch.all(torch.abs(disc_loss - 0.5) < 1e-5)\n",
    "\n",
    "    gen = torch.ones_like\n",
    "    disc = nn.Identity()\n",
    "    criterion = torch.mul\n",
    "    real = torch.zeros(num_images, 1)\n",
    "    assert torch.all(torch.abs(get_disc_loss(gen, disc, criterion, real,\n",
    "                                             num_images, z_dim, 'cpu')) < 1e-5)\n",
    "\n",
    "def test_disc_loss(max_tests = 10):\n",
    "    z_dim = 64\n",
    "    gen = Generator(z_dim).to(device)\n",
    "    gen_opt = torch.optim.Adam(gen.parameters(), lr=lr)\n",
    "    disc = Discriminator().to(device) \n",
    "    disc_opt = torch.optim.Adam(disc.parameters(), lr=lr)\n",
    "    num_steps = 0\n",
    "    for real, _ in dataloader:\n",
    "        cur_batch_size = len(real)\n",
    "        real = real.view(cur_batch_size, -1).to(device)\n",
    "\n",
    "        disc_opt.zero_grad()\n",
    "\n",
    "        disc_loss = get_disc_loss(gen, disc, criterion, real, cur_batch_size,\n",
    "                                  z_dim, device)\n",
    "        assert (disc_loss - 0.68).abs() < 0.05\n",
    "\n",
    "        disc_loss.backward(retain_graph=True)\n",
    "\n",
    "        assert gen.gen[0][0].weight.grad is None\n",
    "\n",
    "        old_weight = disc.disc[0][0].weight.data.clone()\n",
    "        disc_opt.step()\n",
    "        new_weight = disc.disc[0][0].weight.data\n",
    "        \n",
    "        assert not torch.all(torch.eq(old_weight, new_weight))\n",
    "        num_steps += 1\n",
    "        if num_steps >= max_tests:\n",
    "            break\n",
    "\n",
    "test_disc_reasonable()\n",
    "test_disc_loss()"
   ]
  },
  {
   "cell_type": "markdown",
   "metadata": {
    "id": "9JNxIhNi1gR2"
   },
   "source": [
    "### Функция активации генератора"
   ]
  },
  {
   "cell_type": "markdown",
   "metadata": {
    "id": "GsTAYdkdPf2V"
   },
   "source": [
    "Вам необходимо выполнить следующие шаги:\n",
    "\n",
    "1. Создание векторов шума и генерация пачки (`num_images`) фейковых изображений. Убедитесь, что передаете параметр `device` в функцию `get_noise`.\n",
    "\n",
    "2. Получить предсказание дискриминатора на фейковых картинках.\n",
    "\n",
    "3. Вычислите значение потерь генератора. Помните, что генератор хочет, чтобы дискриминатор считал фейковые картинки - реальными.\n",
    "\n",
    "*Важно*: \n",
    "\n",
    "1. Вам нужен тензор \"абсолютной истины\", чтобы рассчитать потери. Например, тензор абсолютной истинности для фейкового изображения - это все нули.\n",
    "\n",
    "2. Вам не нужно писать здесь собственную функцию потерь - используйте `criterion(pred, true)`"
   ]
  },
  {
   "cell_type": "code",
   "execution_count": 19,
   "metadata": {
    "executionInfo": {
     "elapsed": 264,
     "status": "ok",
     "timestamp": 1638795730154,
     "user": {
      "displayName": "Алексей Липаткин",
      "photoUrl": "https://lh3.googleusercontent.com/a/default-user=s64",
      "userId": "09681188874907299799"
     },
     "user_tz": -300
    },
    "id": "_85Km0um1cxQ"
   },
   "outputs": [],
   "source": [
    "def get_gen_loss(gen, disc, criterion, num_images, z_dim, device):\n",
    "    '''\n",
    "    Возвращает значение функции потерь генератора на текущих входных данных.\n",
    "    Параметры:\n",
    "        gen: генератор, который возвращает z-размерный шум\n",
    "        disc: дискриминатор, который возвращает предсказание - real/fake\n",
    "        criterion: функция потерь, которая используется дискриминатором \n",
    "               для сравнения предсказаний с действительной реальностью картинок \n",
    "               (fake = 0, real = 1)\n",
    "        num_images: количество картинок созданных генератором, совпадает \n",
    "                    с количеством реальных картиное\n",
    "        z_dim: размерность вектора шума (скаляр)\n",
    "        device: тип устройства на котором будем запускать\n",
    "    Возвращаемое значение:\n",
    "        gen_loss: тензор со значениями функции потерь генератора \n",
    "                  для текущей пачки\n",
    "    '''\n",
    "    #### START CODE HERE ####\n",
    "    fake_noise = get_noise(num_images, z_dim, device=device)\n",
    "    fake = gen(fake_noise)\n",
    "    disc_fake_pred = disc(fake)\n",
    "    gen_loss = criterion(disc_fake_pred, torch.ones_like(disc_fake_pred))\n",
    "    #### END CODE HERE ####\n",
    "    return gen_loss"
   ]
  },
  {
   "cell_type": "code",
   "execution_count": 20,
   "metadata": {
    "executionInfo": {
     "elapsed": 395,
     "status": "ok",
     "timestamp": 1638795737390,
     "user": {
      "displayName": "Алексей Липаткин",
      "photoUrl": "https://lh3.googleusercontent.com/a/default-user=s64",
      "userId": "09681188874907299799"
     },
     "user_tz": -300
    },
    "id": "Q2VnnY7d1lpP"
   },
   "outputs": [],
   "source": [
    "def test_gen_reasonable(num_images=10):\n",
    "    z_dim = 64\n",
    "    gen = torch.zeros_like\n",
    "    disc = nn.Identity()\n",
    "    criterion = torch.mul\n",
    "    gen_loss_tensor = get_gen_loss(gen, disc, criterion, num_images, z_dim, 'cpu')\n",
    "    assert torch.all(torch.abs(gen_loss_tensor) < 1e-5)\n",
    "    assert tuple(gen_loss_tensor.shape) == (num_images, z_dim)\n",
    "\n",
    "    gen = torch.ones_like\n",
    "    disc = nn.Identity()\n",
    "    criterion = torch.mul\n",
    "    real = torch.zeros(num_images, 1)\n",
    "    gen_loss_tensor = get_gen_loss(gen, disc, criterion, num_images, z_dim, 'cpu')\n",
    "    assert torch.all(torch.abs(gen_loss_tensor - 1) < 1e-5)\n",
    "    assert tuple(gen_loss_tensor.shape) == (num_images, z_dim)\n",
    "    \n",
    "\n",
    "def test_gen_loss(num_images):\n",
    "    z_dim = 64\n",
    "    gen = Generator(z_dim).to(device)\n",
    "    gen_opt = torch.optim.Adam(gen.parameters(), lr=lr)\n",
    "    disc = Discriminator().to(device) \n",
    "    disc_opt = torch.optim.Adam(disc.parameters(), lr=lr)\n",
    "    \n",
    "    gen_loss = get_gen_loss(gen, disc, criterion, num_images, z_dim, device)\n",
    "    \n",
    "    assert (gen_loss - 0.7).abs() < 0.1\n",
    "    gen_loss.backward()\n",
    "    old_weight = gen.gen[0][0].weight.clone()\n",
    "    gen_opt.step()\n",
    "    new_weight = gen.gen[0][0].weight\n",
    "    assert not torch.all(torch.eq(old_weight, new_weight))\n",
    "\n",
    "\n",
    "test_gen_reasonable(10)\n",
    "test_gen_loss(18)"
   ]
  },
  {
   "cell_type": "markdown",
   "metadata": {
    "id": "OMfpWk3y1pow"
   },
   "source": [
    "### Процесс обучения"
   ]
  },
  {
   "cell_type": "markdown",
   "metadata": {
    "id": "_HwIDtVTYFiv"
   },
   "source": [
    "Для каждой эпохи вы будете обрабатывать весь набор данных пакетно. Для каждой партии вам нужно будет обновить дискриминатор и генератор, используя их потери. Обратите внимание, что вы можете увидеть, что потеря может быть больше 1, это нормально, так как **BCE** (binary cross entropy) может быть любым положительным числом для достаточно уверенного ошибочного предположения.\n",
    "\n",
    "Также часто бывает так, что дискриминатор превосходит генератор, особенно на старте, потому что его работа проще. Важно, чтобы ни один из них не переобучился.\n",
    "\n",
    "После того, как вы представили рабочую версию с оригинальной архитектурой, не стесняйтесь поиграть с архитектурой, если вы хотите увидеть, как различные архитектурные решения могут привести к улучшению или ухудшению GAN."
   ]
  },
  {
   "cell_type": "markdown",
   "metadata": {
    "id": "WxbckMTQZrmb"
   },
   "source": [
    "В этом задании вам необходимо реализовать обновление генератора:    \n",
    "\n",
    "1. Обнулить градиенты\n",
    "2. Вычислить значение функции потерь генератора и присвоить их в переменную `gen_loss`\n",
    "3. Обновить градиенты\n",
    "4. Обновить оптимизатор"
   ]
  },
  {
   "cell_type": "code",
   "execution_count": 21,
   "metadata": {
    "colab": {
     "base_uri": "https://localhost:8080/",
     "height": 985,
     "referenced_widgets": [
      "529f93cefe9d4e54854089e14d491e89",
      "595cde1612124017992559c6d4c391f4",
      "e1b564bb102445c3a2107f842cc2f79b",
      "663db77e7f284695949150d4693a8231",
      "3f4e3704e5bb4afd91822c1373711f0c",
      "70f28fb1953b46d089a7b897fa85e2c0",
      "3ba8b30d231d4043895f37b8a0293902",
      "069d45429a7f4c8cbfe7221c085b63cc",
      "d34a5792d82240c9ad3010a3c7e9eaab",
      "c037a2c399b54d8998779fbf20fd67e0",
      "28dd200ffbaf468d8055c8e70e39d381",
      "0c163e662a5543a09fe79a8797acdc3d",
      "83d122eb8ff64ad7bf9e88fc51805234",
      "32ee9066b44d4f399acf2a791fefc8d7",
      "f6f02db2cfb149aa9caf1d298190b8b2",
      "9e01eaeffb3340d88bf68511d4e56bdd",
      "09a8b349141c4bf790b04ff962b4466a",
      "f4ca66ecc1b0436f9ffa6af636937cc5",
      "550da94133884559a14a29f65fe09dde",
      "65a1d2a7a9d542408cde680ed462709e",
      "832f7a90d5c14d55962dc76b9cc11015",
      "d0d9d22bc3794f76a5554e6945d11d61"
     ]
    },
    "executionInfo": {
     "elapsed": 82364,
     "status": "error",
     "timestamp": 1638795859121,
     "user": {
      "displayName": "Алексей Липаткин",
      "photoUrl": "https://lh3.googleusercontent.com/a/default-user=s64",
      "userId": "09681188874907299799"
     },
     "user_tz": -300
    },
    "id": "1eFf5-9q1nYP",
    "outputId": "a59a66f7-329c-4858-c190-86f953d36c93"
   },
   "outputs": [
    {
     "data": {
      "application/vnd.jupyter.widget-view+json": {
       "model_id": "529f93cefe9d4e54854089e14d491e89",
       "version_major": 2,
       "version_minor": 0
      },
      "text/plain": [
       "  0%|          | 0/469 [00:00<?, ?it/s]"
      ]
     },
     "metadata": {},
     "output_type": "display_data"
    },
    {
     "data": {
      "application/vnd.jupyter.widget-view+json": {
       "model_id": "0c163e662a5543a09fe79a8797acdc3d",
       "version_major": 2,
       "version_minor": 0
      },
      "text/plain": [
       "  0%|          | 0/469 [00:00<?, ?it/s]"
      ]
     },
     "metadata": {},
     "output_type": "display_data"
    },
    {
     "name": "stdout",
     "output_type": "stream",
     "text": [
      "Step 500: Generator loss: 1.45090410387516, discriminator loss: 0.41054362058639515\n"
     ]
    },
    {
     "data": {
      "image/png": "[encoded data removed]",
      "text/plain": [
       "<Figure size 432x288 with 1 Axes>"
      ]
     },
     "metadata": {
      "needs_background": "light"
     },
     "output_type": "display_data"
    },
    {
     "data": {
      "image/png": "[encoded data removed]",
      "text/plain": [
       "<Figure size 432x288 with 1 Axes>"
      ]
     },
     "metadata": {
      "needs_background": "light"
     },
     "output_type": "display_data"
    },
    {
     "ename": "KeyboardInterrupt",
     "evalue": "ignored",
     "output_type": "error",
     "traceback": [
      "\u001b[0;31m---------------------------------------------------------------------------\u001b[0m",
      "\u001b[0;31mKeyboardInterrupt\u001b[0m                         Traceback (most recent call last)",
      "\u001b[0;32m<ipython-input-21-e7deede779a8>\u001b[0m in \u001b[0;36m<module>\u001b[0;34m()\u001b[0m\n\u001b[1;32m      8\u001b[0m \u001b[0;34m\u001b[0m\u001b[0m\n\u001b[1;32m      9\u001b[0m     \u001b[0;31m# Dataloader returns the batches\u001b[0m\u001b[0;34m\u001b[0m\u001b[0;34m\u001b[0m\u001b[0;34m\u001b[0m\u001b[0m\n\u001b[0;32m---> 10\u001b[0;31m     \u001b[0;32mfor\u001b[0m \u001b[0mreal\u001b[0m\u001b[0;34m,\u001b[0m \u001b[0m_\u001b[0m \u001b[0;32min\u001b[0m \u001b[0mtqdm\u001b[0m\u001b[0;34m(\u001b[0m\u001b[0mdataloader\u001b[0m\u001b[0;34m)\u001b[0m\u001b[0;34m:\u001b[0m\u001b[0;34m\u001b[0m\u001b[0;34m\u001b[0m\u001b[0m\n\u001b[0m\u001b[1;32m     11\u001b[0m         \u001b[0mcur_batch_size\u001b[0m \u001b[0;34m=\u001b[0m \u001b[0mlen\u001b[0m\u001b[0;34m(\u001b[0m\u001b[0mreal\u001b[0m\u001b[0;34m)\u001b[0m\u001b[0;34m\u001b[0m\u001b[0;34m\u001b[0m\u001b[0m\n\u001b[1;32m     12\u001b[0m \u001b[0;34m\u001b[0m\u001b[0m\n",
      "\u001b[0;32m/usr/local/lib/python3.7/dist-packages/tqdm/notebook.py\u001b[0m in \u001b[0;36m__iter__\u001b[0;34m(self)\u001b[0m\n\u001b[1;32m    255\u001b[0m     \u001b[0;32mdef\u001b[0m \u001b[0m__iter__\u001b[0m\u001b[0;34m(\u001b[0m\u001b[0mself\u001b[0m\u001b[0;34m)\u001b[0m\u001b[0;34m:\u001b[0m\u001b[0;34m\u001b[0m\u001b[0;34m\u001b[0m\u001b[0m\n\u001b[1;32m    256\u001b[0m         \u001b[0;32mtry\u001b[0m\u001b[0;34m:\u001b[0m\u001b[0;34m\u001b[0m\u001b[0;34m\u001b[0m\u001b[0m\n\u001b[0;32m--> 257\u001b[0;31m             \u001b[0;32mfor\u001b[0m \u001b[0mobj\u001b[0m \u001b[0;32min\u001b[0m \u001b[0msuper\u001b[0m\u001b[0;34m(\u001b[0m\u001b[0mtqdm_notebook\u001b[0m\u001b[0;34m,\u001b[0m \u001b[0mself\u001b[0m\u001b[0;34m)\u001b[0m\u001b[0;34m.\u001b[0m\u001b[0m__iter__\u001b[0m\u001b[0;34m(\u001b[0m\u001b[0;34m)\u001b[0m\u001b[0;34m:\u001b[0m\u001b[0;34m\u001b[0m\u001b[0;34m\u001b[0m\u001b[0m\n\u001b[0m\u001b[1;32m    258\u001b[0m                 \u001b[0;31m# return super(tqdm...) will not catch exception\u001b[0m\u001b[0;34m\u001b[0m\u001b[0;34m\u001b[0m\u001b[0;34m\u001b[0m\u001b[0m\n\u001b[1;32m    259\u001b[0m                 \u001b[0;32myield\u001b[0m \u001b[0mobj\u001b[0m\u001b[0;34m\u001b[0m\u001b[0;34m\u001b[0m\u001b[0m\n",
      "\u001b[0;32m/usr/local/lib/python3.7/dist-packages/tqdm/std.py\u001b[0m in \u001b[0;36m__iter__\u001b[0;34m(self)\u001b[0m\n\u001b[1;32m   1178\u001b[0m \u001b[0;34m\u001b[0m\u001b[0m\n\u001b[1;32m   1179\u001b[0m         \u001b[0;32mtry\u001b[0m\u001b[0;34m:\u001b[0m\u001b[0;34m\u001b[0m\u001b[0;34m\u001b[0m\u001b[0m\n\u001b[0;32m-> 1180\u001b[0;31m             \u001b[0;32mfor\u001b[0m \u001b[0mobj\u001b[0m \u001b[0;32min\u001b[0m \u001b[0miterable\u001b[0m\u001b[0;34m:\u001b[0m\u001b[0;34m\u001b[0m\u001b[0;34m\u001b[0m\u001b[0m\n\u001b[0m\u001b[1;32m   1181\u001b[0m                 \u001b[0;32myield\u001b[0m \u001b[0mobj\u001b[0m\u001b[0;34m\u001b[0m\u001b[0;34m\u001b[0m\u001b[0m\n\u001b[1;32m   1182\u001b[0m                 \u001b[0;31m# Update and possibly print the progressbar.\u001b[0m\u001b[0;34m\u001b[0m\u001b[0;34m\u001b[0m\u001b[0;34m\u001b[0m\u001b[0m\n",
      "\u001b[0;32m/usr/local/lib/python3.7/dist-packages/torch/utils/data/dataloader.py\u001b[0m in \u001b[0;36m__next__\u001b[0;34m(self)\u001b[0m\n\u001b[1;32m    519\u001b[0m             \u001b[0;32mif\u001b[0m \u001b[0mself\u001b[0m\u001b[0;34m.\u001b[0m\u001b[0m_sampler_iter\u001b[0m \u001b[0;32mis\u001b[0m \u001b[0;32mNone\u001b[0m\u001b[0;34m:\u001b[0m\u001b[0;34m\u001b[0m\u001b[0;34m\u001b[0m\u001b[0m\n\u001b[1;32m    520\u001b[0m                 \u001b[0mself\u001b[0m\u001b[0;34m.\u001b[0m\u001b[0m_reset\u001b[0m\u001b[0;34m(\u001b[0m\u001b[0;34m)\u001b[0m\u001b[0;34m\u001b[0m\u001b[0;34m\u001b[0m\u001b[0m\n\u001b[0;32m--> 521\u001b[0;31m             \u001b[0mdata\u001b[0m \u001b[0;34m=\u001b[0m \u001b[0mself\u001b[0m\u001b[0;34m.\u001b[0m\u001b[0m_next_data\u001b[0m\u001b[0;34m(\u001b[0m\u001b[0;34m)\u001b[0m\u001b[0;34m\u001b[0m\u001b[0;34m\u001b[0m\u001b[0m\n\u001b[0m\u001b[1;32m    522\u001b[0m             \u001b[0mself\u001b[0m\u001b[0;34m.\u001b[0m\u001b[0m_num_yielded\u001b[0m \u001b[0;34m+=\u001b[0m \u001b[0;36m1\u001b[0m\u001b[0;34m\u001b[0m\u001b[0;34m\u001b[0m\u001b[0m\n\u001b[1;32m    523\u001b[0m             \u001b[0;32mif\u001b[0m \u001b[0mself\u001b[0m\u001b[0;34m.\u001b[0m\u001b[0m_dataset_kind\u001b[0m \u001b[0;34m==\u001b[0m \u001b[0m_DatasetKind\u001b[0m\u001b[0;34m.\u001b[0m\u001b[0mIterable\u001b[0m \u001b[0;32mand\u001b[0m\u001b[0;31m \u001b[0m\u001b[0;31m\\\u001b[0m\u001b[0;34m\u001b[0m\u001b[0;34m\u001b[0m\u001b[0m\n",
      "\u001b[0;32m/usr/local/lib/python3.7/dist-packages/torch/utils/data/dataloader.py\u001b[0m in \u001b[0;36m_next_data\u001b[0;34m(self)\u001b[0m\n\u001b[1;32m    559\u001b[0m     \u001b[0;32mdef\u001b[0m \u001b[0m_next_data\u001b[0m\u001b[0;34m(\u001b[0m\u001b[0mself\u001b[0m\u001b[0;34m)\u001b[0m\u001b[0;34m:\u001b[0m\u001b[0;34m\u001b[0m\u001b[0;34m\u001b[0m\u001b[0m\n\u001b[1;32m    560\u001b[0m         \u001b[0mindex\u001b[0m \u001b[0;34m=\u001b[0m \u001b[0mself\u001b[0m\u001b[0;34m.\u001b[0m\u001b[0m_next_index\u001b[0m\u001b[0;34m(\u001b[0m\u001b[0;34m)\u001b[0m  \u001b[0;31m# may raise StopIteration\u001b[0m\u001b[0;34m\u001b[0m\u001b[0;34m\u001b[0m\u001b[0m\n\u001b[0;32m--> 561\u001b[0;31m         \u001b[0mdata\u001b[0m \u001b[0;34m=\u001b[0m \u001b[0mself\u001b[0m\u001b[0;34m.\u001b[0m\u001b[0m_dataset_fetcher\u001b[0m\u001b[0;34m.\u001b[0m\u001b[0mfetch\u001b[0m\u001b[0;34m(\u001b[0m\u001b[0mindex\u001b[0m\u001b[0;34m)\u001b[0m  \u001b[0;31m# may raise StopIteration\u001b[0m\u001b[0;34m\u001b[0m\u001b[0;34m\u001b[0m\u001b[0m\n\u001b[0m\u001b[1;32m    562\u001b[0m         \u001b[0;32mif\u001b[0m \u001b[0mself\u001b[0m\u001b[0;34m.\u001b[0m\u001b[0m_pin_memory\u001b[0m\u001b[0;34m:\u001b[0m\u001b[0;34m\u001b[0m\u001b[0;34m\u001b[0m\u001b[0m\n\u001b[1;32m    563\u001b[0m             \u001b[0mdata\u001b[0m \u001b[0;34m=\u001b[0m \u001b[0m_utils\u001b[0m\u001b[0;34m.\u001b[0m\u001b[0mpin_memory\u001b[0m\u001b[0;34m.\u001b[0m\u001b[0mpin_memory\u001b[0m\u001b[0;34m(\u001b[0m\u001b[0mdata\u001b[0m\u001b[0;34m)\u001b[0m\u001b[0;34m\u001b[0m\u001b[0;34m\u001b[0m\u001b[0m\n",
      "\u001b[0;32m/usr/local/lib/python3.7/dist-packages/torch/utils/data/_utils/fetch.py\u001b[0m in \u001b[0;36mfetch\u001b[0;34m(self, possibly_batched_index)\u001b[0m\n\u001b[1;32m     47\u001b[0m     \u001b[0;32mdef\u001b[0m \u001b[0mfetch\u001b[0m\u001b[0;34m(\u001b[0m\u001b[0mself\u001b[0m\u001b[0;34m,\u001b[0m \u001b[0mpossibly_batched_index\u001b[0m\u001b[0;34m)\u001b[0m\u001b[0;34m:\u001b[0m\u001b[0;34m\u001b[0m\u001b[0;34m\u001b[0m\u001b[0m\n\u001b[1;32m     48\u001b[0m         \u001b[0;32mif\u001b[0m \u001b[0mself\u001b[0m\u001b[0;34m.\u001b[0m\u001b[0mauto_collation\u001b[0m\u001b[0;34m:\u001b[0m\u001b[0;34m\u001b[0m\u001b[0;34m\u001b[0m\u001b[0m\n\u001b[0;32m---> 49\u001b[0;31m             \u001b[0mdata\u001b[0m \u001b[0;34m=\u001b[0m \u001b[0;34m[\u001b[0m\u001b[0mself\u001b[0m\u001b[0;34m.\u001b[0m\u001b[0mdataset\u001b[0m\u001b[0;34m[\u001b[0m\u001b[0midx\u001b[0m\u001b[0;34m]\u001b[0m \u001b[0;32mfor\u001b[0m \u001b[0midx\u001b[0m \u001b[0;32min\u001b[0m \u001b[0mpossibly_batched_index\u001b[0m\u001b[0;34m]\u001b[0m\u001b[0;34m\u001b[0m\u001b[0;34m\u001b[0m\u001b[0m\n\u001b[0m\u001b[1;32m     50\u001b[0m         \u001b[0;32melse\u001b[0m\u001b[0;34m:\u001b[0m\u001b[0;34m\u001b[0m\u001b[0;34m\u001b[0m\u001b[0m\n\u001b[1;32m     51\u001b[0m             \u001b[0mdata\u001b[0m \u001b[0;34m=\u001b[0m \u001b[0mself\u001b[0m\u001b[0;34m.\u001b[0m\u001b[0mdataset\u001b[0m\u001b[0;34m[\u001b[0m\u001b[0mpossibly_batched_index\u001b[0m\u001b[0;34m]\u001b[0m\u001b[0;34m\u001b[0m\u001b[0;34m\u001b[0m\u001b[0m\n",
      "\u001b[0;32m/usr/local/lib/python3.7/dist-packages/torch/utils/data/_utils/fetch.py\u001b[0m in \u001b[0;36m<listcomp>\u001b[0;34m(.0)\u001b[0m\n\u001b[1;32m     47\u001b[0m     \u001b[0;32mdef\u001b[0m \u001b[0mfetch\u001b[0m\u001b[0;34m(\u001b[0m\u001b[0mself\u001b[0m\u001b[0;34m,\u001b[0m \u001b[0mpossibly_batched_index\u001b[0m\u001b[0;34m)\u001b[0m\u001b[0;34m:\u001b[0m\u001b[0;34m\u001b[0m\u001b[0;34m\u001b[0m\u001b[0m\n\u001b[1;32m     48\u001b[0m         \u001b[0;32mif\u001b[0m \u001b[0mself\u001b[0m\u001b[0;34m.\u001b[0m\u001b[0mauto_collation\u001b[0m\u001b[0;34m:\u001b[0m\u001b[0;34m\u001b[0m\u001b[0;34m\u001b[0m\u001b[0m\n\u001b[0;32m---> 49\u001b[0;31m             \u001b[0mdata\u001b[0m \u001b[0;34m=\u001b[0m \u001b[0;34m[\u001b[0m\u001b[0mself\u001b[0m\u001b[0;34m.\u001b[0m\u001b[0mdataset\u001b[0m\u001b[0;34m[\u001b[0m\u001b[0midx\u001b[0m\u001b[0;34m]\u001b[0m \u001b[0;32mfor\u001b[0m \u001b[0midx\u001b[0m \u001b[0;32min\u001b[0m \u001b[0mpossibly_batched_index\u001b[0m\u001b[0;34m]\u001b[0m\u001b[0;34m\u001b[0m\u001b[0;34m\u001b[0m\u001b[0m\n\u001b[0m\u001b[1;32m     50\u001b[0m         \u001b[0;32melse\u001b[0m\u001b[0;34m:\u001b[0m\u001b[0;34m\u001b[0m\u001b[0;34m\u001b[0m\u001b[0m\n\u001b[1;32m     51\u001b[0m             \u001b[0mdata\u001b[0m \u001b[0;34m=\u001b[0m \u001b[0mself\u001b[0m\u001b[0;34m.\u001b[0m\u001b[0mdataset\u001b[0m\u001b[0;34m[\u001b[0m\u001b[0mpossibly_batched_index\u001b[0m\u001b[0;34m]\u001b[0m\u001b[0;34m\u001b[0m\u001b[0;34m\u001b[0m\u001b[0m\n",
      "\u001b[0;32m/usr/local/lib/python3.7/dist-packages/torchvision/datasets/mnist.py\u001b[0m in \u001b[0;36m__getitem__\u001b[0;34m(self, index)\u001b[0m\n\u001b[1;32m    132\u001b[0m \u001b[0;34m\u001b[0m\u001b[0m\n\u001b[1;32m    133\u001b[0m         \u001b[0;32mif\u001b[0m \u001b[0mself\u001b[0m\u001b[0;34m.\u001b[0m\u001b[0mtransform\u001b[0m \u001b[0;32mis\u001b[0m \u001b[0;32mnot\u001b[0m \u001b[0;32mNone\u001b[0m\u001b[0;34m:\u001b[0m\u001b[0;34m\u001b[0m\u001b[0;34m\u001b[0m\u001b[0m\n\u001b[0;32m--> 134\u001b[0;31m             \u001b[0mimg\u001b[0m \u001b[0;34m=\u001b[0m \u001b[0mself\u001b[0m\u001b[0;34m.\u001b[0m\u001b[0mtransform\u001b[0m\u001b[0;34m(\u001b[0m\u001b[0mimg\u001b[0m\u001b[0;34m)\u001b[0m\u001b[0;34m\u001b[0m\u001b[0;34m\u001b[0m\u001b[0m\n\u001b[0m\u001b[1;32m    135\u001b[0m \u001b[0;34m\u001b[0m\u001b[0m\n\u001b[1;32m    136\u001b[0m         \u001b[0;32mif\u001b[0m \u001b[0mself\u001b[0m\u001b[0;34m.\u001b[0m\u001b[0mtarget_transform\u001b[0m \u001b[0;32mis\u001b[0m \u001b[0;32mnot\u001b[0m \u001b[0;32mNone\u001b[0m\u001b[0;34m:\u001b[0m\u001b[0;34m\u001b[0m\u001b[0;34m\u001b[0m\u001b[0m\n",
      "\u001b[0;32m/usr/local/lib/python3.7/dist-packages/torchvision/transforms/transforms.py\u001b[0m in \u001b[0;36m__call__\u001b[0;34m(self, pic)\u001b[0m\n\u001b[1;32m     96\u001b[0m             \u001b[0mTensor\u001b[0m\u001b[0;34m:\u001b[0m \u001b[0mConverted\u001b[0m \u001b[0mimage\u001b[0m\u001b[0;34m.\u001b[0m\u001b[0;34m\u001b[0m\u001b[0;34m\u001b[0m\u001b[0m\n\u001b[1;32m     97\u001b[0m         \"\"\"\n\u001b[0;32m---> 98\u001b[0;31m         \u001b[0;32mreturn\u001b[0m \u001b[0mF\u001b[0m\u001b[0;34m.\u001b[0m\u001b[0mto_tensor\u001b[0m\u001b[0;34m(\u001b[0m\u001b[0mpic\u001b[0m\u001b[0;34m)\u001b[0m\u001b[0;34m\u001b[0m\u001b[0;34m\u001b[0m\u001b[0m\n\u001b[0m\u001b[1;32m     99\u001b[0m \u001b[0;34m\u001b[0m\u001b[0m\n\u001b[1;32m    100\u001b[0m     \u001b[0;32mdef\u001b[0m \u001b[0m__repr__\u001b[0m\u001b[0;34m(\u001b[0m\u001b[0mself\u001b[0m\u001b[0;34m)\u001b[0m\u001b[0;34m:\u001b[0m\u001b[0;34m\u001b[0m\u001b[0;34m\u001b[0m\u001b[0m\n",
      "\u001b[0;32m/usr/local/lib/python3.7/dist-packages/torchvision/transforms/functional.py\u001b[0m in \u001b[0;36mto_tensor\u001b[0;34m(pic)\u001b[0m\n\u001b[1;32m    148\u001b[0m     \u001b[0mimg\u001b[0m \u001b[0;34m=\u001b[0m \u001b[0mimg\u001b[0m\u001b[0;34m.\u001b[0m\u001b[0mpermute\u001b[0m\u001b[0;34m(\u001b[0m\u001b[0;34m(\u001b[0m\u001b[0;36m2\u001b[0m\u001b[0;34m,\u001b[0m \u001b[0;36m0\u001b[0m\u001b[0;34m,\u001b[0m \u001b[0;36m1\u001b[0m\u001b[0;34m)\u001b[0m\u001b[0;34m)\u001b[0m\u001b[0;34m.\u001b[0m\u001b[0mcontiguous\u001b[0m\u001b[0;34m(\u001b[0m\u001b[0;34m)\u001b[0m\u001b[0;34m\u001b[0m\u001b[0;34m\u001b[0m\u001b[0m\n\u001b[1;32m    149\u001b[0m     \u001b[0;32mif\u001b[0m \u001b[0misinstance\u001b[0m\u001b[0;34m(\u001b[0m\u001b[0mimg\u001b[0m\u001b[0;34m,\u001b[0m \u001b[0mtorch\u001b[0m\u001b[0;34m.\u001b[0m\u001b[0mByteTensor\u001b[0m\u001b[0;34m)\u001b[0m\u001b[0;34m:\u001b[0m\u001b[0;34m\u001b[0m\u001b[0;34m\u001b[0m\u001b[0m\n\u001b[0;32m--> 150\u001b[0;31m         \u001b[0;32mreturn\u001b[0m \u001b[0mimg\u001b[0m\u001b[0;34m.\u001b[0m\u001b[0mto\u001b[0m\u001b[0;34m(\u001b[0m\u001b[0mdtype\u001b[0m\u001b[0;34m=\u001b[0m\u001b[0mdefault_float_dtype\u001b[0m\u001b[0;34m)\u001b[0m\u001b[0;34m.\u001b[0m\u001b[0mdiv\u001b[0m\u001b[0;34m(\u001b[0m\u001b[0;36m255\u001b[0m\u001b[0;34m)\u001b[0m\u001b[0;34m\u001b[0m\u001b[0;34m\u001b[0m\u001b[0m\n\u001b[0m\u001b[1;32m    151\u001b[0m     \u001b[0;32melse\u001b[0m\u001b[0;34m:\u001b[0m\u001b[0;34m\u001b[0m\u001b[0;34m\u001b[0m\u001b[0m\n\u001b[1;32m    152\u001b[0m         \u001b[0;32mreturn\u001b[0m \u001b[0mimg\u001b[0m\u001b[0;34m\u001b[0m\u001b[0;34m\u001b[0m\u001b[0m\n",
      "\u001b[0;31mKeyboardInterrupt\u001b[0m: "
     ]
    }
   ],
   "source": [
    "cur_step = 0\n",
    "mean_generator_loss = 0\n",
    "mean_discriminator_loss = 0\n",
    "test_generator = True\n",
    "gen_loss = False\n",
    "error = False\n",
    "for epoch in range(n_epochs):\n",
    "  \n",
    "    for real, _ in tqdm(dataloader):\n",
    "        cur_batch_size = len(real)\n",
    "\n",
    "        real = real.view(cur_batch_size, -1).to(device)\n",
    "\n",
    "        disc_opt.zero_grad()\n",
    "\n",
    "        disc_loss = get_disc_loss(gen, disc, criterion, real, cur_batch_size,\n",
    "                                  z_dim, device)\n",
    "\n",
    "        disc_loss.backward(retain_graph=True)\n",
    "\n",
    "        disc_opt.step()\n",
    "\n",
    "        if test_generator:\n",
    "            old_generator_weights = gen.gen[0][0].weight.detach().clone()\n",
    "\n",
    "        #### START CODE HERE ####\n",
    "        gen_opt.zero_grad()\n",
    "        gen_loss = get_gen_loss(gen, disc, criterion, cur_batch_size, z_dim,\n",
    "                                device)\n",
    "        gen_loss.backward()\n",
    "        gen_opt.step()\n",
    "        #### END CODE HERE ####\n",
    "\n",
    "        if test_generator:\n",
    "            try:\n",
    "                assert lr > 0.0000002 or (\n",
    "                    gen.gen[0][0].weight.grad.abs().max() < 0.0005 \n",
    "                    and epoch == 0)\n",
    "                assert torch.any(\n",
    "                    gen.gen[0][0].weight.detach().clone() \n",
    "                    != old_generator_weights)\n",
    "            except:\n",
    "                error = True\n",
    "                print(\"Runtime tests have failed\")\n",
    "\n",
    "        mean_discriminator_loss += disc_loss.item() / display_step\n",
    "\n",
    "        mean_generator_loss += gen_loss.item() / display_step\n",
    "\n",
    "        if cur_step % display_step == 0 and cur_step > 0:\n",
    "            print(f\"Step {cur_step}: Generator loss: {mean_generator_loss},\" + \n",
    "                  f\" discriminator loss: {mean_discriminator_loss}\")\n",
    "            fake_noise = get_noise(cur_batch_size, z_dim, device=device)\n",
    "            fake = gen(fake_noise)\n",
    "            show_tensor_images(fake)\n",
    "            show_tensor_images(real)\n",
    "            mean_generator_loss = 0\n",
    "            mean_discriminator_loss = 0\n",
    "        cur_step += 1"
   ]
  },
  {
   "cell_type": "code",
   "execution_count": null,
   "metadata": {
    "id": "68kQNDIQ1xFH"
   },
   "outputs": [],
   "source": []
  }
 ],
 "metadata": {
  "colab": {
   "authorship_tag": "ABX9TyNklL3BZ3SgCcMPcYiVDR3y",
   "collapsed_sections": [
    "D1FrWHEeOtYq",
    "Ntmb8GbGQHZs",
    "0R2mSM42RIQT",
    "WS9CUsp3YMtx",
    "X11GCXatXJcI",
    "dwYcwoptYUAb",
    "y1VFNrAqbYBJ",
    "KOssPY01bfAH",
    "byJjzmx9aT0O",
    "v0gnjFYgblFJ",
    "6bjk1cjE1Rsu",
    "9JNxIhNi1gR2",
    "OMfpWk3y1pow"
   ],
   "name": "GAN_HW.ipynb",
   "provenance": []
  },
  "kernelspec": {
   "display_name": "Python 3",
   "language": "python",
   "name": "python3"
  },
  "language_info": {
   "codemirror_mode": {
    "name": "ipython",
    "version": 3
   },
   "file_extension": ".py",
   "mimetype": "text/x-python",
   "name": "python",
   "nbconvert_exporter": "python",
   "pygments_lexer": "ipython3",
   "version": "3.8.8"
  },
  "widgets": {
   "application/vnd.jupyter.widget-state+json": {
    "069d45429a7f4c8cbfe7221c085b63cc": {
     "model_module": "@jupyter-widgets/controls",
     "model_module_version": "1.5.0",
     "model_name": "ProgressStyleModel",
     "state": {
      "_model_module": "@jupyter-widgets/controls",
      "_model_module_version": "1.5.0",
      "_model_name": "ProgressStyleModel",
      "_view_count": null,
      "_view_module": "@jupyter-widgets/base",
      "_view_module_version": "1.2.0",
      "_view_name": "StyleView",
      "bar_color": null,
      "description_width": ""
     }
    },
    "09a8b349141c4bf790b04ff962b4466a": {
     "model_module": "@jupyter-widgets/controls",
     "model_module_version": "1.5.0",
     "model_name": "DescriptionStyleModel",
     "state": {
      "_model_module": "@jupyter-widgets/controls",
      "_model_module_version": "1.5.0",
      "_model_name": "DescriptionStyleModel",
      "_view_count": null,
      "_view_module": "@jupyter-widgets/base",
      "_view_module_version": "1.2.0",
      "_view_name": "StyleView",
      "description_width": ""
     }
    },
    "0c163e662a5543a09fe79a8797acdc3d": {
     "model_module": "@jupyter-widgets/controls",
     "model_module_version": "1.5.0",
     "model_name": "HBoxModel",
     "state": {
      "_dom_classes": [],
      "_model_module": "@jupyter-widgets/controls",
      "_model_module_version": "1.5.0",
      "_model_name": "HBoxModel",
      "_view_count": null,
      "_view_module": "@jupyter-widgets/controls",
      "_view_module_version": "1.5.0",
      "_view_name": "HBoxView",
      "box_style": "",
      "children": [
       "IPY_MODEL_32ee9066b44d4f399acf2a791fefc8d7",
       "IPY_MODEL_f6f02db2cfb149aa9caf1d298190b8b2",
       "IPY_MODEL_9e01eaeffb3340d88bf68511d4e56bdd"
      ],
      "layout": "IPY_MODEL_83d122eb8ff64ad7bf9e88fc51805234"
     }
    },
    "28dd200ffbaf468d8055c8e70e39d381": {
     "model_module": "@jupyter-widgets/base",
     "model_module_version": "1.2.0",
     "model_name": "LayoutModel",
     "state": {
      "_model_module": "@jupyter-widgets/base",
      "_model_module_version": "1.2.0",
      "_model_name": "LayoutModel",
      "_view_count": null,
      "_view_module": "@jupyter-widgets/base",
      "_view_module_version": "1.2.0",
      "_view_name": "LayoutView",
      "align_content": null,
      "align_items": null,
      "align_self": null,
      "border": null,
      "bottom": null,
      "display": null,
      "flex": null,
      "flex_flow": null,
      "grid_area": null,
      "grid_auto_columns": null,
      "grid_auto_flow": null,
      "grid_auto_rows": null,
      "grid_column": null,
      "grid_gap": null,
      "grid_row": null,
      "grid_template_areas": null,
      "grid_template_columns": null,
      "grid_template_rows": null,
      "height": null,
      "justify_content": null,
      "justify_items": null,
      "left": null,
      "margin": null,
      "max_height": null,
      "max_width": null,
      "min_height": null,
      "min_width": null,
      "object_fit": null,
      "object_position": null,
      "order": null,
      "overflow": null,
      "overflow_x": null,
      "overflow_y": null,
      "padding": null,
      "right": null,
      "top": null,
      "visibility": null,
      "width": null
     }
    },
    "32ee9066b44d4f399acf2a791fefc8d7": {
     "model_module": "@jupyter-widgets/controls",
     "model_module_version": "1.5.0",
     "model_name": "HTMLModel",
     "state": {
      "_dom_classes": [],
      "_model_module": "@jupyter-widgets/controls",
      "_model_module_version": "1.5.0",
      "_model_name": "HTMLModel",
      "_view_count": null,
      "_view_module": "@jupyter-widgets/controls",
      "_view_module_version": "1.5.0",
      "_view_name": "HTMLView",
      "description": "",
      "description_tooltip": null,
      "layout": "IPY_MODEL_f4ca66ecc1b0436f9ffa6af636937cc5",
      "placeholder": "​",
      "style": "IPY_MODEL_09a8b349141c4bf790b04ff962b4466a",
      "value": " 67%"
     }
    },
    "3ba8b30d231d4043895f37b8a0293902": {
     "model_module": "@jupyter-widgets/base",
     "model_module_version": "1.2.0",
     "model_name": "LayoutModel",
     "state": {
      "_model_module": "@jupyter-widgets/base",
      "_model_module_version": "1.2.0",
      "_model_name": "LayoutModel",
      "_view_count": null,
      "_view_module": "@jupyter-widgets/base",
      "_view_module_version": "1.2.0",
      "_view_name": "LayoutView",
      "align_content": null,
      "align_items": null,
      "align_self": null,
      "border": null,
      "bottom": null,
      "display": null,
      "flex": null,
      "flex_flow": null,
      "grid_area": null,
      "grid_auto_columns": null,
      "grid_auto_flow": null,
      "grid_auto_rows": null,
      "grid_column": null,
      "grid_gap": null,
      "grid_row": null,
      "grid_template_areas": null,
      "grid_template_columns": null,
      "grid_template_rows": null,
      "height": null,
      "justify_content": null,
      "justify_items": null,
      "left": null,
      "margin": null,
      "max_height": null,
      "max_width": null,
      "min_height": null,
      "min_width": null,
      "object_fit": null,
      "object_position": null,
      "order": null,
      "overflow": null,
      "overflow_x": null,
      "overflow_y": null,
      "padding": null,
      "right": null,
      "top": null,
      "visibility": null,
      "width": null
     }
    },
    "3f4e3704e5bb4afd91822c1373711f0c": {
     "model_module": "@jupyter-widgets/controls",
     "model_module_version": "1.5.0",
     "model_name": "HTMLModel",
     "state": {
      "_dom_classes": [],
      "_model_module": "@jupyter-widgets/controls",
      "_model_module_version": "1.5.0",
      "_model_name": "HTMLModel",
      "_view_count": null,
      "_view_module": "@jupyter-widgets/controls",
      "_view_module_version": "1.5.0",
      "_view_name": "HTMLView",
      "description": "",
      "description_tooltip": null,
      "layout": "IPY_MODEL_28dd200ffbaf468d8055c8e70e39d381",
      "placeholder": "​",
      "style": "IPY_MODEL_c037a2c399b54d8998779fbf20fd67e0",
      "value": " 469/469 [00:49&lt;00:00, 10.32it/s]"
     }
    },
    "529f93cefe9d4e54854089e14d491e89": {
     "model_module": "@jupyter-widgets/controls",
     "model_module_version": "1.5.0",
     "model_name": "HBoxModel",
     "state": {
      "_dom_classes": [],
      "_model_module": "@jupyter-widgets/controls",
      "_model_module_version": "1.5.0",
      "_model_name": "HBoxModel",
      "_view_count": null,
      "_view_module": "@jupyter-widgets/controls",
      "_view_module_version": "1.5.0",
      "_view_name": "HBoxView",
      "box_style": "",
      "children": [
       "IPY_MODEL_e1b564bb102445c3a2107f842cc2f79b",
       "IPY_MODEL_663db77e7f284695949150d4693a8231",
       "IPY_MODEL_3f4e3704e5bb4afd91822c1373711f0c"
      ],
      "layout": "IPY_MODEL_595cde1612124017992559c6d4c391f4"
     }
    },
    "550da94133884559a14a29f65fe09dde": {
     "model_module": "@jupyter-widgets/controls",
     "model_module_version": "1.5.0",
     "model_name": "ProgressStyleModel",
     "state": {
      "_model_module": "@jupyter-widgets/controls",
      "_model_module_version": "1.5.0",
      "_model_name": "ProgressStyleModel",
      "_view_count": null,
      "_view_module": "@jupyter-widgets/base",
      "_view_module_version": "1.2.0",
      "_view_name": "StyleView",
      "bar_color": null,
      "description_width": ""
     }
    },
    "595cde1612124017992559c6d4c391f4": {
     "model_module": "@jupyter-widgets/base",
     "model_module_version": "1.2.0",
     "model_name": "LayoutModel",
     "state": {
      "_model_module": "@jupyter-widgets/base",
      "_model_module_version": "1.2.0",
      "_model_name": "LayoutModel",
      "_view_count": null,
      "_view_module": "@jupyter-widgets/base",
      "_view_module_version": "1.2.0",
      "_view_name": "LayoutView",
      "align_content": null,
      "align_items": null,
      "align_self": null,
      "border": null,
      "bottom": null,
      "display": null,
      "flex": null,
      "flex_flow": null,
      "grid_area": null,
      "grid_auto_columns": null,
      "grid_auto_flow": null,
      "grid_auto_rows": null,
      "grid_column": null,
      "grid_gap": null,
      "grid_row": null,
      "grid_template_areas": null,
      "grid_template_columns": null,
      "grid_template_rows": null,
      "height": null,
      "justify_content": null,
      "justify_items": null,
      "left": null,
      "margin": null,
      "max_height": null,
      "max_width": null,
      "min_height": null,
      "min_width": null,
      "object_fit": null,
      "object_position": null,
      "order": null,
      "overflow": null,
      "overflow_x": null,
      "overflow_y": null,
      "padding": null,
      "right": null,
      "top": null,
      "visibility": null,
      "width": null
     }
    },
    "65a1d2a7a9d542408cde680ed462709e": {
     "model_module": "@jupyter-widgets/base",
     "model_module_version": "1.2.0",
     "model_name": "LayoutModel",
     "state": {
      "_model_module": "@jupyter-widgets/base",
      "_model_module_version": "1.2.0",
      "_model_name": "LayoutModel",
      "_view_count": null,
      "_view_module": "@jupyter-widgets/base",
      "_view_module_version": "1.2.0",
      "_view_name": "LayoutView",
      "align_content": null,
      "align_items": null,
      "align_self": null,
      "border": null,
      "bottom": null,
      "display": null,
      "flex": null,
      "flex_flow": null,
      "grid_area": null,
      "grid_auto_columns": null,
      "grid_auto_flow": null,
      "grid_auto_rows": null,
      "grid_column": null,
      "grid_gap": null,
      "grid_row": null,
      "grid_template_areas": null,
      "grid_template_columns": null,
      "grid_template_rows": null,
      "height": null,
      "justify_content": null,
      "justify_items": null,
      "left": null,
      "margin": null,
      "max_height": null,
      "max_width": null,
      "min_height": null,
      "min_width": null,
      "object_fit": null,
      "object_position": null,
      "order": null,
      "overflow": null,
      "overflow_x": null,
      "overflow_y": null,
      "padding": null,
      "right": null,
      "top": null,
      "visibility": null,
      "width": null
     }
    },
    "663db77e7f284695949150d4693a8231": {
     "model_module": "@jupyter-widgets/controls",
     "model_module_version": "1.5.0",
     "model_name": "FloatProgressModel",
     "state": {
      "_dom_classes": [],
      "_model_module": "@jupyter-widgets/controls",
      "_model_module_version": "1.5.0",
      "_model_name": "FloatProgressModel",
      "_view_count": null,
      "_view_module": "@jupyter-widgets/controls",
      "_view_module_version": "1.5.0",
      "_view_name": "ProgressView",
      "bar_style": "success",
      "description": "",
      "description_tooltip": null,
      "layout": "IPY_MODEL_d34a5792d82240c9ad3010a3c7e9eaab",
      "max": 469,
      "min": 0,
      "orientation": "horizontal",
      "style": "IPY_MODEL_069d45429a7f4c8cbfe7221c085b63cc",
      "value": 469
     }
    },
    "70f28fb1953b46d089a7b897fa85e2c0": {
     "model_module": "@jupyter-widgets/controls",
     "model_module_version": "1.5.0",
     "model_name": "DescriptionStyleModel",
     "state": {
      "_model_module": "@jupyter-widgets/controls",
      "_model_module_version": "1.5.0",
      "_model_name": "DescriptionStyleModel",
      "_view_count": null,
      "_view_module": "@jupyter-widgets/base",
      "_view_module_version": "1.2.0",
      "_view_name": "StyleView",
      "description_width": ""
     }
    },
    "832f7a90d5c14d55962dc76b9cc11015": {
     "model_module": "@jupyter-widgets/controls",
     "model_module_version": "1.5.0",
     "model_name": "DescriptionStyleModel",
     "state": {
      "_model_module": "@jupyter-widgets/controls",
      "_model_module_version": "1.5.0",
      "_model_name": "DescriptionStyleModel",
      "_view_count": null,
      "_view_module": "@jupyter-widgets/base",
      "_view_module_version": "1.2.0",
      "_view_name": "StyleView",
      "description_width": ""
     }
    },
    "83d122eb8ff64ad7bf9e88fc51805234": {
     "model_module": "@jupyter-widgets/base",
     "model_module_version": "1.2.0",
     "model_name": "LayoutModel",
     "state": {
      "_model_module": "@jupyter-widgets/base",
      "_model_module_version": "1.2.0",
      "_model_name": "LayoutModel",
      "_view_count": null,
      "_view_module": "@jupyter-widgets/base",
      "_view_module_version": "1.2.0",
      "_view_name": "LayoutView",
      "align_content": null,
      "align_items": null,
      "align_self": null,
      "border": null,
      "bottom": null,
      "display": null,
      "flex": null,
      "flex_flow": null,
      "grid_area": null,
      "grid_auto_columns": null,
      "grid_auto_flow": null,
      "grid_auto_rows": null,
      "grid_column": null,
      "grid_gap": null,
      "grid_row": null,
      "grid_template_areas": null,
      "grid_template_columns": null,
      "grid_template_rows": null,
      "height": null,
      "justify_content": null,
      "justify_items": null,
      "left": null,
      "margin": null,
      "max_height": null,
      "max_width": null,
      "min_height": null,
      "min_width": null,
      "object_fit": null,
      "object_position": null,
      "order": null,
      "overflow": null,
      "overflow_x": null,
      "overflow_y": null,
      "padding": null,
      "right": null,
      "top": null,
      "visibility": null,
      "width": null
     }
    },
    "9e01eaeffb3340d88bf68511d4e56bdd": {
     "model_module": "@jupyter-widgets/controls",
     "model_module_version": "1.5.0",
     "model_name": "HTMLModel",
     "state": {
      "_dom_classes": [],
      "_model_module": "@jupyter-widgets/controls",
      "_model_module_version": "1.5.0",
      "_model_name": "HTMLModel",
      "_view_count": null,
      "_view_module": "@jupyter-widgets/controls",
      "_view_module_version": "1.5.0",
      "_view_name": "HTMLView",
      "description": "",
      "description_tooltip": null,
      "layout": "IPY_MODEL_d0d9d22bc3794f76a5554e6945d11d61",
      "placeholder": "​",
      "style": "IPY_MODEL_832f7a90d5c14d55962dc76b9cc11015",
      "value": " 312/469 [00:32&lt;00:15, 10.30it/s]"
     }
    },
    "c037a2c399b54d8998779fbf20fd67e0": {
     "model_module": "@jupyter-widgets/controls",
     "model_module_version": "1.5.0",
     "model_name": "DescriptionStyleModel",
     "state": {
      "_model_module": "@jupyter-widgets/controls",
      "_model_module_version": "1.5.0",
      "_model_name": "DescriptionStyleModel",
      "_view_count": null,
      "_view_module": "@jupyter-widgets/base",
      "_view_module_version": "1.2.0",
      "_view_name": "StyleView",
      "description_width": ""
     }
    },
    "d0d9d22bc3794f76a5554e6945d11d61": {
     "model_module": "@jupyter-widgets/base",
     "model_module_version": "1.2.0",
     "model_name": "LayoutModel",
     "state": {
      "_model_module": "@jupyter-widgets/base",
      "_model_module_version": "1.2.0",
      "_model_name": "LayoutModel",
      "_view_count": null,
      "_view_module": "@jupyter-widgets/base",
      "_view_module_version": "1.2.0",
      "_view_name": "LayoutView",
      "align_content": null,
      "align_items": null,
      "align_self": null,
      "border": null,
      "bottom": null,
      "display": null,
      "flex": null,
      "flex_flow": null,
      "grid_area": null,
      "grid_auto_columns": null,
      "grid_auto_flow": null,
      "grid_auto_rows": null,
      "grid_column": null,
      "grid_gap": null,
      "grid_row": null,
      "grid_template_areas": null,
      "grid_template_columns": null,
      "grid_template_rows": null,
      "height": null,
      "justify_content": null,
      "justify_items": null,
      "left": null,
      "margin": null,
      "max_height": null,
      "max_width": null,
      "min_height": null,
      "min_width": null,
      "object_fit": null,
      "object_position": null,
      "order": null,
      "overflow": null,
      "overflow_x": null,
      "overflow_y": null,
      "padding": null,
      "right": null,
      "top": null,
      "visibility": null,
      "width": null
     }
    },
    "d34a5792d82240c9ad3010a3c7e9eaab": {
     "model_module": "@jupyter-widgets/base",
     "model_module_version": "1.2.0",
     "model_name": "LayoutModel",
     "state": {
      "_model_module": "@jupyter-widgets/base",
      "_model_module_version": "1.2.0",
      "_model_name": "LayoutModel",
      "_view_count": null,
      "_view_module": "@jupyter-widgets/base",
      "_view_module_version": "1.2.0",
      "_view_name": "LayoutView",
      "align_content": null,
      "align_items": null,
      "align_self": null,
      "border": null,
      "bottom": null,
      "display": null,
      "flex": null,
      "flex_flow": null,
      "grid_area": null,
      "grid_auto_columns": null,
      "grid_auto_flow": null,
      "grid_auto_rows": null,
      "grid_column": null,
      "grid_gap": null,
      "grid_row": null,
      "grid_template_areas": null,
      "grid_template_columns": null,
      "grid_template_rows": null,
      "height": null,
      "justify_content": null,
      "justify_items": null,
      "left": null,
      "margin": null,
      "max_height": null,
      "max_width": null,
      "min_height": null,
      "min_width": null,
      "object_fit": null,
      "object_position": null,
      "order": null,
      "overflow": null,
      "overflow_x": null,
      "overflow_y": null,
      "padding": null,
      "right": null,
      "top": null,
      "visibility": null,
      "width": null
     }
    },
    "e1b564bb102445c3a2107f842cc2f79b": {
     "model_module": "@jupyter-widgets/controls",
     "model_module_version": "1.5.0",
     "model_name": "HTMLModel",
     "state": {
      "_dom_classes": [],
      "_model_module": "@jupyter-widgets/controls",
      "_model_module_version": "1.5.0",
      "_model_name": "HTMLModel",
      "_view_count": null,
      "_view_module": "@jupyter-widgets/controls",
      "_view_module_version": "1.5.0",
      "_view_name": "HTMLView",
      "description": "",
      "description_tooltip": null,
      "layout": "IPY_MODEL_3ba8b30d231d4043895f37b8a0293902",
      "placeholder": "​",
      "style": "IPY_MODEL_70f28fb1953b46d089a7b897fa85e2c0",
      "value": "100%"
     }
    },
    "f4ca66ecc1b0436f9ffa6af636937cc5": {
     "model_module": "@jupyter-widgets/base",
     "model_module_version": "1.2.0",
     "model_name": "LayoutModel",
     "state": {
      "_model_module": "@jupyter-widgets/base",
      "_model_module_version": "1.2.0",
      "_model_name": "LayoutModel",
      "_view_count": null,
      "_view_module": "@jupyter-widgets/base",
      "_view_module_version": "1.2.0",
      "_view_name": "LayoutView",
      "align_content": null,
      "align_items": null,
      "align_self": null,
      "border": null,
      "bottom": null,
      "display": null,
      "flex": null,
      "flex_flow": null,
      "grid_area": null,
      "grid_auto_columns": null,
      "grid_auto_flow": null,
      "grid_auto_rows": null,
      "grid_column": null,
      "grid_gap": null,
      "grid_row": null,
      "grid_template_areas": null,
      "grid_template_columns": null,
      "grid_template_rows": null,
      "height": null,
      "justify_content": null,
      "justify_items": null,
      "left": null,
      "margin": null,
      "max_height": null,
      "max_width": null,
      "min_height": null,
      "min_width": null,
      "object_fit": null,
      "object_position": null,
      "order": null,
      "overflow": null,
      "overflow_x": null,
      "overflow_y": null,
      "padding": null,
      "right": null,
      "top": null,
      "visibility": null,
      "width": null
     }
    },
    "f6f02db2cfb149aa9caf1d298190b8b2": {
     "model_module": "@jupyter-widgets/controls",
     "model_module_version": "1.5.0",
     "model_name": "FloatProgressModel",
     "state": {
      "_dom_classes": [],
      "_model_module": "@jupyter-widgets/controls",
      "_model_module_version": "1.5.0",
      "_model_name": "FloatProgressModel",
      "_view_count": null,
      "_view_module": "@jupyter-widgets/controls",
      "_view_module_version": "1.5.0",
      "_view_name": "ProgressView",
      "bar_style": "danger",
      "description": "",
      "description_tooltip": null,
      "layout": "IPY_MODEL_65a1d2a7a9d542408cde680ed462709e",
      "max": 469,
      "min": 0,
      "orientation": "horizontal",
      "style": "IPY_MODEL_550da94133884559a14a29f65fe09dde",
      "value": 312
     }
    }
   }
  }
 },
 "nbformat": 4,
 "nbformat_minor": 4
}
